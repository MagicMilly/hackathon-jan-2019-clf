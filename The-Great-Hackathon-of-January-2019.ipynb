{
 "cells": [
  {
   "cell_type": "markdown",
   "metadata": {},
   "source": [
    "### Flatiron School DS January 2019 Hackathon <a id='top'></a>\n",
    "* Emily J. Cain & [Andrew Wester](https://github.com/steeznation16)\n",
    "* Sunday, January 27, 2019"
   ]
  },
  {
   "cell_type": "markdown",
   "metadata": {},
   "source": [
    "### I. <a href='#section_1'>Load & Inspect the Data</a>\n",
    "### II. <a href='#section_2'>Data Cleaning & Exploratory Data Analysis</a>\n",
    "* <a href='#hidden_values'>Hidden Values</a>\n",
    "* <a href='#convert_binary'>Convert Binary Columns</a>\n",
    "* <a href='#corr_heatmap'>Correlation Heatmap</a>\n",
    "\n",
    "### III. <a href='#section_3'>Preprocess the Data</a>\n",
    "### IV. <a href='#section_4'>Modeling</a>\n",
    "* Custom Functions\n",
    " * <a href='#print_metrics'>Print Metrics Function</a> \n",
    " * <a href='#custom_predict'>Custom Prediction Function</a>\n",
    " * <a href='#plot_features'>Plot Feature Importance Function</a>\n",
    "* <a href='#gridsearch'>GridSearch</a>\n",
    " * <a href='#random_forest'>Random Forest</a>\n",
    " * <a href='#decision_tree'>Decision Tree</a>\n",
    " * <a href='#ada_boost'>AdaBoost</a>\n",
    " * <a href='#gradient'>Gradient Boosting</a>\n",
    "\n",
    "### V. <a href='#section_5'>Conclusions & Recommendations</a>"
   ]
  },
  {
   "cell_type": "code",
   "execution_count": 1,
   "metadata": {},
   "outputs": [],
   "source": [
    "import pandas as pd\n",
    "import numpy as np\n",
    "import seaborn as sns\n",
    "import matplotlib.pyplot as plt\n",
    "%matplotlib inline\n",
    "\n",
    "from sklearn.ensemble import AdaBoostClassifier, GradientBoostingClassifier, RandomForestClassifier\n",
    "from sklearn.metrics import accuracy_score, auc, classification_report, confusion_matrix, f1_score\n",
    "from sklearn.metrics import make_scorer, recall_score, roc_curve\n",
    "from sklearn.model_selection import cross_val_score, GridSearchCV, train_test_split\n",
    "from sklearn.preprocessing import StandardScaler\n",
    "from sklearn.tree import DecisionTreeClassifier\n",
    "\n",
    "import warnings\n",
    "warnings.filterwarnings('ignore')"
   ]
  },
  {
   "cell_type": "markdown",
   "metadata": {},
   "source": [
    "### I. Load & Inspect the Data <a id='section_1'></a>\n",
    "<a href='#top'>Back to Top</a>"
   ]
  },
  {
   "cell_type": "code",
   "execution_count": 2,
   "metadata": {},
   "outputs": [
    {
     "data": {
      "text/html": [
       "<div>\n",
       "<style scoped>\n",
       "    .dataframe tbody tr th:only-of-type {\n",
       "        vertical-align: middle;\n",
       "    }\n",
       "\n",
       "    .dataframe tbody tr th {\n",
       "        vertical-align: top;\n",
       "    }\n",
       "\n",
       "    .dataframe thead th {\n",
       "        text-align: right;\n",
       "    }\n",
       "</style>\n",
       "<table border=\"1\" class=\"dataframe\">\n",
       "  <thead>\n",
       "    <tr style=\"text-align: right;\">\n",
       "      <th></th>\n",
       "      <th>customerID</th>\n",
       "      <th>gender</th>\n",
       "      <th>SeniorCitizen</th>\n",
       "      <th>Partner</th>\n",
       "      <th>Dependents</th>\n",
       "      <th>tenure</th>\n",
       "      <th>PhoneService</th>\n",
       "      <th>MultipleLines</th>\n",
       "      <th>InternetService</th>\n",
       "      <th>OnlineSecurity</th>\n",
       "      <th>...</th>\n",
       "      <th>DeviceProtection</th>\n",
       "      <th>TechSupport</th>\n",
       "      <th>StreamingTV</th>\n",
       "      <th>StreamingMovies</th>\n",
       "      <th>Contract</th>\n",
       "      <th>PaperlessBilling</th>\n",
       "      <th>PaymentMethod</th>\n",
       "      <th>MonthlyCharges</th>\n",
       "      <th>TotalCharges</th>\n",
       "      <th>Churn</th>\n",
       "    </tr>\n",
       "  </thead>\n",
       "  <tbody>\n",
       "    <tr>\n",
       "      <th>0</th>\n",
       "      <td>7590-VHVEG</td>\n",
       "      <td>Female</td>\n",
       "      <td>0</td>\n",
       "      <td>Yes</td>\n",
       "      <td>No</td>\n",
       "      <td>1</td>\n",
       "      <td>No</td>\n",
       "      <td>No phone service</td>\n",
       "      <td>DSL</td>\n",
       "      <td>No</td>\n",
       "      <td>...</td>\n",
       "      <td>No</td>\n",
       "      <td>No</td>\n",
       "      <td>No</td>\n",
       "      <td>No</td>\n",
       "      <td>Month-to-month</td>\n",
       "      <td>Yes</td>\n",
       "      <td>Electronic check</td>\n",
       "      <td>29.85</td>\n",
       "      <td>29.85</td>\n",
       "      <td>No</td>\n",
       "    </tr>\n",
       "    <tr>\n",
       "      <th>1</th>\n",
       "      <td>5575-GNVDE</td>\n",
       "      <td>Male</td>\n",
       "      <td>0</td>\n",
       "      <td>No</td>\n",
       "      <td>No</td>\n",
       "      <td>34</td>\n",
       "      <td>Yes</td>\n",
       "      <td>No</td>\n",
       "      <td>DSL</td>\n",
       "      <td>Yes</td>\n",
       "      <td>...</td>\n",
       "      <td>Yes</td>\n",
       "      <td>No</td>\n",
       "      <td>No</td>\n",
       "      <td>No</td>\n",
       "      <td>One year</td>\n",
       "      <td>No</td>\n",
       "      <td>Mailed check</td>\n",
       "      <td>56.95</td>\n",
       "      <td>1889.5</td>\n",
       "      <td>No</td>\n",
       "    </tr>\n",
       "    <tr>\n",
       "      <th>2</th>\n",
       "      <td>3668-QPYBK</td>\n",
       "      <td>Male</td>\n",
       "      <td>0</td>\n",
       "      <td>No</td>\n",
       "      <td>No</td>\n",
       "      <td>2</td>\n",
       "      <td>Yes</td>\n",
       "      <td>No</td>\n",
       "      <td>DSL</td>\n",
       "      <td>Yes</td>\n",
       "      <td>...</td>\n",
       "      <td>No</td>\n",
       "      <td>No</td>\n",
       "      <td>No</td>\n",
       "      <td>No</td>\n",
       "      <td>Month-to-month</td>\n",
       "      <td>Yes</td>\n",
       "      <td>Mailed check</td>\n",
       "      <td>53.85</td>\n",
       "      <td>108.15</td>\n",
       "      <td>Yes</td>\n",
       "    </tr>\n",
       "    <tr>\n",
       "      <th>3</th>\n",
       "      <td>7795-CFOCW</td>\n",
       "      <td>Male</td>\n",
       "      <td>0</td>\n",
       "      <td>No</td>\n",
       "      <td>No</td>\n",
       "      <td>45</td>\n",
       "      <td>No</td>\n",
       "      <td>No phone service</td>\n",
       "      <td>DSL</td>\n",
       "      <td>Yes</td>\n",
       "      <td>...</td>\n",
       "      <td>Yes</td>\n",
       "      <td>Yes</td>\n",
       "      <td>No</td>\n",
       "      <td>No</td>\n",
       "      <td>One year</td>\n",
       "      <td>No</td>\n",
       "      <td>Bank transfer (automatic)</td>\n",
       "      <td>42.30</td>\n",
       "      <td>1840.75</td>\n",
       "      <td>No</td>\n",
       "    </tr>\n",
       "    <tr>\n",
       "      <th>4</th>\n",
       "      <td>9237-HQITU</td>\n",
       "      <td>Female</td>\n",
       "      <td>0</td>\n",
       "      <td>No</td>\n",
       "      <td>No</td>\n",
       "      <td>2</td>\n",
       "      <td>Yes</td>\n",
       "      <td>No</td>\n",
       "      <td>Fiber optic</td>\n",
       "      <td>No</td>\n",
       "      <td>...</td>\n",
       "      <td>No</td>\n",
       "      <td>No</td>\n",
       "      <td>No</td>\n",
       "      <td>No</td>\n",
       "      <td>Month-to-month</td>\n",
       "      <td>Yes</td>\n",
       "      <td>Electronic check</td>\n",
       "      <td>70.70</td>\n",
       "      <td>151.65</td>\n",
       "      <td>Yes</td>\n",
       "    </tr>\n",
       "  </tbody>\n",
       "</table>\n",
       "<p>5 rows × 21 columns</p>\n",
       "</div>"
      ],
      "text/plain": [
       "   customerID  gender  SeniorCitizen Partner Dependents  tenure PhoneService  \\\n",
       "0  7590-VHVEG  Female              0     Yes         No       1           No   \n",
       "1  5575-GNVDE    Male              0      No         No      34          Yes   \n",
       "2  3668-QPYBK    Male              0      No         No       2          Yes   \n",
       "3  7795-CFOCW    Male              0      No         No      45           No   \n",
       "4  9237-HQITU  Female              0      No         No       2          Yes   \n",
       "\n",
       "      MultipleLines InternetService OnlineSecurity  ...  DeviceProtection  \\\n",
       "0  No phone service             DSL             No  ...                No   \n",
       "1                No             DSL            Yes  ...               Yes   \n",
       "2                No             DSL            Yes  ...                No   \n",
       "3  No phone service             DSL            Yes  ...               Yes   \n",
       "4                No     Fiber optic             No  ...                No   \n",
       "\n",
       "  TechSupport StreamingTV StreamingMovies        Contract PaperlessBilling  \\\n",
       "0          No          No              No  Month-to-month              Yes   \n",
       "1          No          No              No        One year               No   \n",
       "2          No          No              No  Month-to-month              Yes   \n",
       "3         Yes          No              No        One year               No   \n",
       "4          No          No              No  Month-to-month              Yes   \n",
       "\n",
       "               PaymentMethod MonthlyCharges  TotalCharges Churn  \n",
       "0           Electronic check          29.85         29.85    No  \n",
       "1               Mailed check          56.95        1889.5    No  \n",
       "2               Mailed check          53.85        108.15   Yes  \n",
       "3  Bank transfer (automatic)          42.30       1840.75    No  \n",
       "4           Electronic check          70.70        151.65   Yes  \n",
       "\n",
       "[5 rows x 21 columns]"
      ]
     },
     "execution_count": 2,
     "metadata": {},
     "output_type": "execute_result"
    }
   ],
   "source": [
    "df = pd.read_csv('WA_Fn-UseC_-Telco-Customer-Churn.csv')\n",
    "df.head()"
   ]
  },
  {
   "cell_type": "code",
   "execution_count": 3,
   "metadata": {},
   "outputs": [
    {
     "name": "stdout",
     "output_type": "stream",
     "text": [
      "<class 'pandas.core.frame.DataFrame'>\n",
      "RangeIndex: 7043 entries, 0 to 7042\n",
      "Data columns (total 21 columns):\n",
      "customerID          7043 non-null object\n",
      "gender              7043 non-null object\n",
      "SeniorCitizen       7043 non-null int64\n",
      "Partner             7043 non-null object\n",
      "Dependents          7043 non-null object\n",
      "tenure              7043 non-null int64\n",
      "PhoneService        7043 non-null object\n",
      "MultipleLines       7043 non-null object\n",
      "InternetService     7043 non-null object\n",
      "OnlineSecurity      7043 non-null object\n",
      "OnlineBackup        7043 non-null object\n",
      "DeviceProtection    7043 non-null object\n",
      "TechSupport         7043 non-null object\n",
      "StreamingTV         7043 non-null object\n",
      "StreamingMovies     7043 non-null object\n",
      "Contract            7043 non-null object\n",
      "PaperlessBilling    7043 non-null object\n",
      "PaymentMethod       7043 non-null object\n",
      "MonthlyCharges      7043 non-null float64\n",
      "TotalCharges        7043 non-null object\n",
      "Churn               7043 non-null object\n",
      "dtypes: float64(1), int64(2), object(18)\n",
      "memory usage: 1.1+ MB\n"
     ]
    }
   ],
   "source": [
    "df.info()"
   ]
  },
  {
   "cell_type": "code",
   "execution_count": 4,
   "metadata": {},
   "outputs": [
    {
     "data": {
      "text/plain": [
       "customerID          0\n",
       "gender              0\n",
       "SeniorCitizen       0\n",
       "Partner             0\n",
       "Dependents          0\n",
       "tenure              0\n",
       "PhoneService        0\n",
       "MultipleLines       0\n",
       "InternetService     0\n",
       "OnlineSecurity      0\n",
       "OnlineBackup        0\n",
       "DeviceProtection    0\n",
       "TechSupport         0\n",
       "StreamingTV         0\n",
       "StreamingMovies     0\n",
       "Contract            0\n",
       "PaperlessBilling    0\n",
       "PaymentMethod       0\n",
       "MonthlyCharges      0\n",
       "TotalCharges        0\n",
       "Churn               0\n",
       "dtype: int64"
      ]
     },
     "execution_count": 4,
     "metadata": {},
     "output_type": "execute_result"
    }
   ],
   "source": [
    "df.isna().sum()"
   ]
  },
  {
   "cell_type": "code",
   "execution_count": 5,
   "metadata": {},
   "outputs": [
    {
     "data": {
      "text/plain": [
       "No     5174\n",
       "Yes    1869\n",
       "Name: Churn, dtype: int64"
      ]
     },
     "execution_count": 5,
     "metadata": {},
     "output_type": "execute_result"
    }
   ],
   "source": [
    "df.Churn.value_counts()"
   ]
  },
  {
   "cell_type": "markdown",
   "metadata": {},
   "source": [
    "#### Class imbalance may indicate the need for weighting in the modeling phase"
   ]
  },
  {
   "cell_type": "code",
   "execution_count": 6,
   "metadata": {},
   "outputs": [],
   "source": [
    "# check for placeholder values\n",
    "# for col in df.columns:\n",
    "    # print(df[col].value_counts().nlargest(10))"
   ]
  },
  {
   "cell_type": "markdown",
   "metadata": {},
   "source": [
    "### II. Data Cleaning & Exploratory Data Analysis <a id='section_2'></a>\n",
    "<a href='#top'>Back to Top</a>"
   ]
  },
  {
   "cell_type": "code",
   "execution_count": 7,
   "metadata": {},
   "outputs": [
    {
     "data": {
      "text/plain": [
       "20.2     11\n",
       "         11\n",
       "19.75     9\n",
       "19.9      8\n",
       "20.05     8\n",
       "Name: TotalCharges, dtype: int64"
      ]
     },
     "execution_count": 7,
     "metadata": {},
     "output_type": "execute_result"
    }
   ],
   "source": [
    "df.TotalCharges.value_counts().nlargest(5)"
   ]
  },
  {
   "cell_type": "markdown",
   "metadata": {},
   "source": [
    "#### We were unable to convert the TotalCharges column from string values to floats with the hidden values present. To find the 11 hidden values, we examined the CSV file to identify them by customerID <a id='hidden_values'></a>"
   ]
  },
  {
   "cell_type": "code",
   "execution_count": 8,
   "metadata": {},
   "outputs": [],
   "source": [
    "hidden_vals = ['4472-LVYGI', '3115-CZMZD', '5709-LVOEQ', '4367-NUYAO', '1371-DWPAZ', '7644-OMVMY', \n",
    "               '3213-VVOLG', '2520-SGTTA', '2923-ARZLG', '4075-WKNIU', '2775-SEFEE']"
   ]
  },
  {
   "cell_type": "code",
   "execution_count": 9,
   "metadata": {},
   "outputs": [
    {
     "name": "stdout",
     "output_type": "stream",
     "text": [
      "Int64Index([488], dtype='int64')\n",
      "Int64Index([753], dtype='int64')\n",
      "Int64Index([936], dtype='int64')\n",
      "Int64Index([1082], dtype='int64')\n",
      "Int64Index([1340], dtype='int64')\n",
      "Int64Index([3331], dtype='int64')\n",
      "Int64Index([3826], dtype='int64')\n",
      "Int64Index([4380], dtype='int64')\n",
      "Int64Index([5218], dtype='int64')\n",
      "Int64Index([6670], dtype='int64')\n",
      "Int64Index([6754], dtype='int64')\n"
     ]
    }
   ],
   "source": [
    "for val in hidden_vals:\n",
    "    print(df.loc[df['customerID'] == val].index)"
   ]
  },
  {
   "cell_type": "code",
   "execution_count": 10,
   "metadata": {},
   "outputs": [],
   "source": [
    "indices = [488, 753, 936, 1082, 1340, 3331, 3826, 4380, 5218, 6670, 6754]\n",
    "for index in indices:\n",
    "    df.drop(index=index, inplace=True)"
   ]
  },
  {
   "cell_type": "code",
   "execution_count": 11,
   "metadata": {},
   "outputs": [
    {
     "data": {
      "text/plain": [
       "20.2     11\n",
       "19.75     9\n",
       "19.65     8\n",
       "19.9      8\n",
       "20.05     8\n",
       "Name: TotalCharges, dtype: int64"
      ]
     },
     "execution_count": 11,
     "metadata": {},
     "output_type": "execute_result"
    }
   ],
   "source": [
    "# confirm that there are no longer any hidden values in TotalCharges column\n",
    "df.TotalCharges.value_counts().nlargest(5)"
   ]
  },
  {
   "cell_type": "code",
   "execution_count": 12,
   "metadata": {},
   "outputs": [],
   "source": [
    "df.TotalCharges = df.TotalCharges.astype('float')"
   ]
  },
  {
   "cell_type": "code",
   "execution_count": 13,
   "metadata": {},
   "outputs": [
    {
     "data": {
      "image/png": "[encoded data removed]",
      "text/plain": [
       "<Figure size 432x288 with 1 Axes>"
      ]
     },
     "metadata": {
      "needs_background": "light"
     },
     "output_type": "display_data"
    }
   ],
   "source": [
    "plt.hist(df.TotalCharges, color='purple');"
   ]
  },
  {
   "cell_type": "code",
   "execution_count": 14,
   "metadata": {},
   "outputs": [],
   "source": [
    "df.drop('customerID', inplace=True, axis=1)"
   ]
  },
  {
   "cell_type": "code",
   "execution_count": 15,
   "metadata": {
    "scrolled": true
   },
   "outputs": [
    {
     "data": {
      "text/html": [
       "<div>\n",
       "<style scoped>\n",
       "    .dataframe tbody tr th:only-of-type {\n",
       "        vertical-align: middle;\n",
       "    }\n",
       "\n",
       "    .dataframe tbody tr th {\n",
       "        vertical-align: top;\n",
       "    }\n",
       "\n",
       "    .dataframe thead th {\n",
       "        text-align: right;\n",
       "    }\n",
       "</style>\n",
       "<table border=\"1\" class=\"dataframe\">\n",
       "  <thead>\n",
       "    <tr style=\"text-align: right;\">\n",
       "      <th></th>\n",
       "      <th>gender</th>\n",
       "      <th>SeniorCitizen</th>\n",
       "      <th>Partner</th>\n",
       "      <th>Dependents</th>\n",
       "      <th>tenure</th>\n",
       "      <th>PhoneService</th>\n",
       "      <th>MultipleLines</th>\n",
       "      <th>InternetService</th>\n",
       "      <th>OnlineSecurity</th>\n",
       "      <th>OnlineBackup</th>\n",
       "      <th>DeviceProtection</th>\n",
       "      <th>TechSupport</th>\n",
       "      <th>StreamingTV</th>\n",
       "      <th>StreamingMovies</th>\n",
       "      <th>Contract</th>\n",
       "      <th>PaperlessBilling</th>\n",
       "      <th>PaymentMethod</th>\n",
       "      <th>MonthlyCharges</th>\n",
       "      <th>TotalCharges</th>\n",
       "      <th>Churn</th>\n",
       "    </tr>\n",
       "  </thead>\n",
       "  <tbody>\n",
       "    <tr>\n",
       "      <th>0</th>\n",
       "      <td>Female</td>\n",
       "      <td>0</td>\n",
       "      <td>Yes</td>\n",
       "      <td>No</td>\n",
       "      <td>1</td>\n",
       "      <td>No</td>\n",
       "      <td>No phone service</td>\n",
       "      <td>DSL</td>\n",
       "      <td>No</td>\n",
       "      <td>Yes</td>\n",
       "      <td>No</td>\n",
       "      <td>No</td>\n",
       "      <td>No</td>\n",
       "      <td>No</td>\n",
       "      <td>Month-to-month</td>\n",
       "      <td>Yes</td>\n",
       "      <td>Electronic check</td>\n",
       "      <td>29.85</td>\n",
       "      <td>29.85</td>\n",
       "      <td>No</td>\n",
       "    </tr>\n",
       "    <tr>\n",
       "      <th>1</th>\n",
       "      <td>Male</td>\n",
       "      <td>0</td>\n",
       "      <td>No</td>\n",
       "      <td>No</td>\n",
       "      <td>34</td>\n",
       "      <td>Yes</td>\n",
       "      <td>No</td>\n",
       "      <td>DSL</td>\n",
       "      <td>Yes</td>\n",
       "      <td>No</td>\n",
       "      <td>Yes</td>\n",
       "      <td>No</td>\n",
       "      <td>No</td>\n",
       "      <td>No</td>\n",
       "      <td>One year</td>\n",
       "      <td>No</td>\n",
       "      <td>Mailed check</td>\n",
       "      <td>56.95</td>\n",
       "      <td>1889.50</td>\n",
       "      <td>No</td>\n",
       "    </tr>\n",
       "    <tr>\n",
       "      <th>2</th>\n",
       "      <td>Male</td>\n",
       "      <td>0</td>\n",
       "      <td>No</td>\n",
       "      <td>No</td>\n",
       "      <td>2</td>\n",
       "      <td>Yes</td>\n",
       "      <td>No</td>\n",
       "      <td>DSL</td>\n",
       "      <td>Yes</td>\n",
       "      <td>Yes</td>\n",
       "      <td>No</td>\n",
       "      <td>No</td>\n",
       "      <td>No</td>\n",
       "      <td>No</td>\n",
       "      <td>Month-to-month</td>\n",
       "      <td>Yes</td>\n",
       "      <td>Mailed check</td>\n",
       "      <td>53.85</td>\n",
       "      <td>108.15</td>\n",
       "      <td>Yes</td>\n",
       "    </tr>\n",
       "    <tr>\n",
       "      <th>3</th>\n",
       "      <td>Male</td>\n",
       "      <td>0</td>\n",
       "      <td>No</td>\n",
       "      <td>No</td>\n",
       "      <td>45</td>\n",
       "      <td>No</td>\n",
       "      <td>No phone service</td>\n",
       "      <td>DSL</td>\n",
       "      <td>Yes</td>\n",
       "      <td>No</td>\n",
       "      <td>Yes</td>\n",
       "      <td>Yes</td>\n",
       "      <td>No</td>\n",
       "      <td>No</td>\n",
       "      <td>One year</td>\n",
       "      <td>No</td>\n",
       "      <td>Bank transfer (automatic)</td>\n",
       "      <td>42.30</td>\n",
       "      <td>1840.75</td>\n",
       "      <td>No</td>\n",
       "    </tr>\n",
       "    <tr>\n",
       "      <th>4</th>\n",
       "      <td>Female</td>\n",
       "      <td>0</td>\n",
       "      <td>No</td>\n",
       "      <td>No</td>\n",
       "      <td>2</td>\n",
       "      <td>Yes</td>\n",
       "      <td>No</td>\n",
       "      <td>Fiber optic</td>\n",
       "      <td>No</td>\n",
       "      <td>No</td>\n",
       "      <td>No</td>\n",
       "      <td>No</td>\n",
       "      <td>No</td>\n",
       "      <td>No</td>\n",
       "      <td>Month-to-month</td>\n",
       "      <td>Yes</td>\n",
       "      <td>Electronic check</td>\n",
       "      <td>70.70</td>\n",
       "      <td>151.65</td>\n",
       "      <td>Yes</td>\n",
       "    </tr>\n",
       "  </tbody>\n",
       "</table>\n",
       "</div>"
      ],
      "text/plain": [
       "   gender  SeniorCitizen Partner Dependents  tenure PhoneService  \\\n",
       "0  Female              0     Yes         No       1           No   \n",
       "1    Male              0      No         No      34          Yes   \n",
       "2    Male              0      No         No       2          Yes   \n",
       "3    Male              0      No         No      45           No   \n",
       "4  Female              0      No         No       2          Yes   \n",
       "\n",
       "      MultipleLines InternetService OnlineSecurity OnlineBackup  \\\n",
       "0  No phone service             DSL             No          Yes   \n",
       "1                No             DSL            Yes           No   \n",
       "2                No             DSL            Yes          Yes   \n",
       "3  No phone service             DSL            Yes           No   \n",
       "4                No     Fiber optic             No           No   \n",
       "\n",
       "  DeviceProtection TechSupport StreamingTV StreamingMovies        Contract  \\\n",
       "0               No          No          No              No  Month-to-month   \n",
       "1              Yes          No          No              No        One year   \n",
       "2               No          No          No              No  Month-to-month   \n",
       "3              Yes         Yes          No              No        One year   \n",
       "4               No          No          No              No  Month-to-month   \n",
       "\n",
       "  PaperlessBilling              PaymentMethod  MonthlyCharges  TotalCharges  \\\n",
       "0              Yes           Electronic check           29.85         29.85   \n",
       "1               No               Mailed check           56.95       1889.50   \n",
       "2              Yes               Mailed check           53.85        108.15   \n",
       "3               No  Bank transfer (automatic)           42.30       1840.75   \n",
       "4              Yes           Electronic check           70.70        151.65   \n",
       "\n",
       "  Churn  \n",
       "0    No  \n",
       "1    No  \n",
       "2   Yes  \n",
       "3    No  \n",
       "4   Yes  "
      ]
     },
     "execution_count": 15,
     "metadata": {},
     "output_type": "execute_result"
    }
   ],
   "source": [
    "df.head()"
   ]
  },
  {
   "cell_type": "markdown",
   "metadata": {},
   "source": [
    "#### Convert binary columns <a id='convert_binary'></a>\n",
    "<a href='#top'>Back to Top</a>"
   ]
  },
  {
   "cell_type": "code",
   "execution_count": 16,
   "metadata": {},
   "outputs": [],
   "source": [
    "yes_no_columns = ['Partner',\n",
    "                  'Dependents',\n",
    "                  'PhoneService',\n",
    "                  'OnlineSecurity',\n",
    "                  'OnlineBackup',\n",
    "                  'DeviceProtection',\n",
    "                  'TechSupport',\n",
    "                  'StreamingMovies',\n",
    "                  'StreamingTV',\n",
    "                  'PaperlessBilling',\n",
    "                  'Churn'\n",
    "                 ]\n",
    "\n",
    "for col in yes_no_columns:\n",
    "    df[col].replace(to_replace='Yes', value=1, inplace=True)\n",
    "    df[col].replace(to_replace='No', value=0, inplace=True)"
   ]
  },
  {
   "cell_type": "code",
   "execution_count": 17,
   "metadata": {},
   "outputs": [
    {
     "data": {
      "text/html": [
       "<div>\n",
       "<style scoped>\n",
       "    .dataframe tbody tr th:only-of-type {\n",
       "        vertical-align: middle;\n",
       "    }\n",
       "\n",
       "    .dataframe tbody tr th {\n",
       "        vertical-align: top;\n",
       "    }\n",
       "\n",
       "    .dataframe thead th {\n",
       "        text-align: right;\n",
       "    }\n",
       "</style>\n",
       "<table border=\"1\" class=\"dataframe\">\n",
       "  <thead>\n",
       "    <tr style=\"text-align: right;\">\n",
       "      <th></th>\n",
       "      <th>gender</th>\n",
       "      <th>SeniorCitizen</th>\n",
       "      <th>Partner</th>\n",
       "      <th>Dependents</th>\n",
       "      <th>tenure</th>\n",
       "      <th>PhoneService</th>\n",
       "      <th>MultipleLines</th>\n",
       "      <th>InternetService</th>\n",
       "      <th>OnlineSecurity</th>\n",
       "      <th>OnlineBackup</th>\n",
       "      <th>DeviceProtection</th>\n",
       "      <th>TechSupport</th>\n",
       "      <th>StreamingTV</th>\n",
       "      <th>StreamingMovies</th>\n",
       "      <th>Contract</th>\n",
       "      <th>PaperlessBilling</th>\n",
       "      <th>PaymentMethod</th>\n",
       "      <th>MonthlyCharges</th>\n",
       "      <th>TotalCharges</th>\n",
       "      <th>Churn</th>\n",
       "    </tr>\n",
       "  </thead>\n",
       "  <tbody>\n",
       "    <tr>\n",
       "      <th>0</th>\n",
       "      <td>Female</td>\n",
       "      <td>0</td>\n",
       "      <td>1</td>\n",
       "      <td>0</td>\n",
       "      <td>1</td>\n",
       "      <td>0</td>\n",
       "      <td>No phone service</td>\n",
       "      <td>DSL</td>\n",
       "      <td>0</td>\n",
       "      <td>1</td>\n",
       "      <td>0</td>\n",
       "      <td>0</td>\n",
       "      <td>0</td>\n",
       "      <td>0</td>\n",
       "      <td>Month-to-month</td>\n",
       "      <td>1</td>\n",
       "      <td>Electronic check</td>\n",
       "      <td>29.85</td>\n",
       "      <td>29.85</td>\n",
       "      <td>0</td>\n",
       "    </tr>\n",
       "    <tr>\n",
       "      <th>1</th>\n",
       "      <td>Male</td>\n",
       "      <td>0</td>\n",
       "      <td>0</td>\n",
       "      <td>0</td>\n",
       "      <td>34</td>\n",
       "      <td>1</td>\n",
       "      <td>No</td>\n",
       "      <td>DSL</td>\n",
       "      <td>1</td>\n",
       "      <td>0</td>\n",
       "      <td>1</td>\n",
       "      <td>0</td>\n",
       "      <td>0</td>\n",
       "      <td>0</td>\n",
       "      <td>One year</td>\n",
       "      <td>0</td>\n",
       "      <td>Mailed check</td>\n",
       "      <td>56.95</td>\n",
       "      <td>1889.50</td>\n",
       "      <td>0</td>\n",
       "    </tr>\n",
       "    <tr>\n",
       "      <th>2</th>\n",
       "      <td>Male</td>\n",
       "      <td>0</td>\n",
       "      <td>0</td>\n",
       "      <td>0</td>\n",
       "      <td>2</td>\n",
       "      <td>1</td>\n",
       "      <td>No</td>\n",
       "      <td>DSL</td>\n",
       "      <td>1</td>\n",
       "      <td>1</td>\n",
       "      <td>0</td>\n",
       "      <td>0</td>\n",
       "      <td>0</td>\n",
       "      <td>0</td>\n",
       "      <td>Month-to-month</td>\n",
       "      <td>1</td>\n",
       "      <td>Mailed check</td>\n",
       "      <td>53.85</td>\n",
       "      <td>108.15</td>\n",
       "      <td>1</td>\n",
       "    </tr>\n",
       "    <tr>\n",
       "      <th>3</th>\n",
       "      <td>Male</td>\n",
       "      <td>0</td>\n",
       "      <td>0</td>\n",
       "      <td>0</td>\n",
       "      <td>45</td>\n",
       "      <td>0</td>\n",
       "      <td>No phone service</td>\n",
       "      <td>DSL</td>\n",
       "      <td>1</td>\n",
       "      <td>0</td>\n",
       "      <td>1</td>\n",
       "      <td>1</td>\n",
       "      <td>0</td>\n",
       "      <td>0</td>\n",
       "      <td>One year</td>\n",
       "      <td>0</td>\n",
       "      <td>Bank transfer (automatic)</td>\n",
       "      <td>42.30</td>\n",
       "      <td>1840.75</td>\n",
       "      <td>0</td>\n",
       "    </tr>\n",
       "    <tr>\n",
       "      <th>4</th>\n",
       "      <td>Female</td>\n",
       "      <td>0</td>\n",
       "      <td>0</td>\n",
       "      <td>0</td>\n",
       "      <td>2</td>\n",
       "      <td>1</td>\n",
       "      <td>No</td>\n",
       "      <td>Fiber optic</td>\n",
       "      <td>0</td>\n",
       "      <td>0</td>\n",
       "      <td>0</td>\n",
       "      <td>0</td>\n",
       "      <td>0</td>\n",
       "      <td>0</td>\n",
       "      <td>Month-to-month</td>\n",
       "      <td>1</td>\n",
       "      <td>Electronic check</td>\n",
       "      <td>70.70</td>\n",
       "      <td>151.65</td>\n",
       "      <td>1</td>\n",
       "    </tr>\n",
       "  </tbody>\n",
       "</table>\n",
       "</div>"
      ],
      "text/plain": [
       "   gender  SeniorCitizen  Partner  Dependents  tenure  PhoneService  \\\n",
       "0  Female              0        1           0       1             0   \n",
       "1    Male              0        0           0      34             1   \n",
       "2    Male              0        0           0       2             1   \n",
       "3    Male              0        0           0      45             0   \n",
       "4  Female              0        0           0       2             1   \n",
       "\n",
       "      MultipleLines InternetService OnlineSecurity OnlineBackup  \\\n",
       "0  No phone service             DSL              0            1   \n",
       "1                No             DSL              1            0   \n",
       "2                No             DSL              1            1   \n",
       "3  No phone service             DSL              1            0   \n",
       "4                No     Fiber optic              0            0   \n",
       "\n",
       "  DeviceProtection TechSupport StreamingTV StreamingMovies        Contract  \\\n",
       "0                0           0           0               0  Month-to-month   \n",
       "1                1           0           0               0        One year   \n",
       "2                0           0           0               0  Month-to-month   \n",
       "3                1           1           0               0        One year   \n",
       "4                0           0           0               0  Month-to-month   \n",
       "\n",
       "   PaperlessBilling              PaymentMethod  MonthlyCharges  TotalCharges  \\\n",
       "0                 1           Electronic check           29.85         29.85   \n",
       "1                 0               Mailed check           56.95       1889.50   \n",
       "2                 1               Mailed check           53.85        108.15   \n",
       "3                 0  Bank transfer (automatic)           42.30       1840.75   \n",
       "4                 1           Electronic check           70.70        151.65   \n",
       "\n",
       "   Churn  \n",
       "0      0  \n",
       "1      0  \n",
       "2      1  \n",
       "3      0  \n",
       "4      1  "
      ]
     },
     "execution_count": 17,
     "metadata": {},
     "output_type": "execute_result"
    }
   ],
   "source": [
    "df.head()"
   ]
  },
  {
   "cell_type": "code",
   "execution_count": 18,
   "metadata": {},
   "outputs": [],
   "source": [
    "df.gender.replace({'Female': 1, 'Male': 0}, inplace=True)"
   ]
  },
  {
   "cell_type": "code",
   "execution_count": 19,
   "metadata": {},
   "outputs": [
    {
     "data": {
      "image/png": "[encoded data removed]",
      "text/plain": [
       "<Figure size 432x288 with 1 Axes>"
      ]
     },
     "metadata": {
      "needs_background": "light"
     },
     "output_type": "display_data"
    }
   ],
   "source": [
    "plt.hist(df.gender, color='purple');"
   ]
  },
  {
   "cell_type": "code",
   "execution_count": 20,
   "metadata": {},
   "outputs": [
    {
     "data": {
      "text/html": [
       "<div>\n",
       "<style scoped>\n",
       "    .dataframe tbody tr th:only-of-type {\n",
       "        vertical-align: middle;\n",
       "    }\n",
       "\n",
       "    .dataframe tbody tr th {\n",
       "        vertical-align: top;\n",
       "    }\n",
       "\n",
       "    .dataframe thead th {\n",
       "        text-align: right;\n",
       "    }\n",
       "</style>\n",
       "<table border=\"1\" class=\"dataframe\">\n",
       "  <thead>\n",
       "    <tr style=\"text-align: right;\">\n",
       "      <th></th>\n",
       "      <th>gender</th>\n",
       "      <th>SeniorCitizen</th>\n",
       "      <th>Partner</th>\n",
       "      <th>Dependents</th>\n",
       "      <th>tenure</th>\n",
       "      <th>PhoneService</th>\n",
       "      <th>MultipleLines</th>\n",
       "      <th>InternetService</th>\n",
       "      <th>OnlineSecurity</th>\n",
       "      <th>OnlineBackup</th>\n",
       "      <th>DeviceProtection</th>\n",
       "      <th>TechSupport</th>\n",
       "      <th>StreamingTV</th>\n",
       "      <th>StreamingMovies</th>\n",
       "      <th>Contract</th>\n",
       "      <th>PaperlessBilling</th>\n",
       "      <th>PaymentMethod</th>\n",
       "      <th>MonthlyCharges</th>\n",
       "      <th>TotalCharges</th>\n",
       "      <th>Churn</th>\n",
       "    </tr>\n",
       "  </thead>\n",
       "  <tbody>\n",
       "    <tr>\n",
       "      <th>0</th>\n",
       "      <td>1</td>\n",
       "      <td>0</td>\n",
       "      <td>1</td>\n",
       "      <td>0</td>\n",
       "      <td>1</td>\n",
       "      <td>0</td>\n",
       "      <td>No phone service</td>\n",
       "      <td>DSL</td>\n",
       "      <td>0</td>\n",
       "      <td>1</td>\n",
       "      <td>0</td>\n",
       "      <td>0</td>\n",
       "      <td>0</td>\n",
       "      <td>0</td>\n",
       "      <td>Month-to-month</td>\n",
       "      <td>1</td>\n",
       "      <td>Electronic check</td>\n",
       "      <td>29.85</td>\n",
       "      <td>29.85</td>\n",
       "      <td>0</td>\n",
       "    </tr>\n",
       "    <tr>\n",
       "      <th>1</th>\n",
       "      <td>0</td>\n",
       "      <td>0</td>\n",
       "      <td>0</td>\n",
       "      <td>0</td>\n",
       "      <td>34</td>\n",
       "      <td>1</td>\n",
       "      <td>No</td>\n",
       "      <td>DSL</td>\n",
       "      <td>1</td>\n",
       "      <td>0</td>\n",
       "      <td>1</td>\n",
       "      <td>0</td>\n",
       "      <td>0</td>\n",
       "      <td>0</td>\n",
       "      <td>One year</td>\n",
       "      <td>0</td>\n",
       "      <td>Mailed check</td>\n",
       "      <td>56.95</td>\n",
       "      <td>1889.50</td>\n",
       "      <td>0</td>\n",
       "    </tr>\n",
       "    <tr>\n",
       "      <th>2</th>\n",
       "      <td>0</td>\n",
       "      <td>0</td>\n",
       "      <td>0</td>\n",
       "      <td>0</td>\n",
       "      <td>2</td>\n",
       "      <td>1</td>\n",
       "      <td>No</td>\n",
       "      <td>DSL</td>\n",
       "      <td>1</td>\n",
       "      <td>1</td>\n",
       "      <td>0</td>\n",
       "      <td>0</td>\n",
       "      <td>0</td>\n",
       "      <td>0</td>\n",
       "      <td>Month-to-month</td>\n",
       "      <td>1</td>\n",
       "      <td>Mailed check</td>\n",
       "      <td>53.85</td>\n",
       "      <td>108.15</td>\n",
       "      <td>1</td>\n",
       "    </tr>\n",
       "    <tr>\n",
       "      <th>3</th>\n",
       "      <td>0</td>\n",
       "      <td>0</td>\n",
       "      <td>0</td>\n",
       "      <td>0</td>\n",
       "      <td>45</td>\n",
       "      <td>0</td>\n",
       "      <td>No phone service</td>\n",
       "      <td>DSL</td>\n",
       "      <td>1</td>\n",
       "      <td>0</td>\n",
       "      <td>1</td>\n",
       "      <td>1</td>\n",
       "      <td>0</td>\n",
       "      <td>0</td>\n",
       "      <td>One year</td>\n",
       "      <td>0</td>\n",
       "      <td>Bank transfer (automatic)</td>\n",
       "      <td>42.30</td>\n",
       "      <td>1840.75</td>\n",
       "      <td>0</td>\n",
       "    </tr>\n",
       "    <tr>\n",
       "      <th>4</th>\n",
       "      <td>1</td>\n",
       "      <td>0</td>\n",
       "      <td>0</td>\n",
       "      <td>0</td>\n",
       "      <td>2</td>\n",
       "      <td>1</td>\n",
       "      <td>No</td>\n",
       "      <td>Fiber optic</td>\n",
       "      <td>0</td>\n",
       "      <td>0</td>\n",
       "      <td>0</td>\n",
       "      <td>0</td>\n",
       "      <td>0</td>\n",
       "      <td>0</td>\n",
       "      <td>Month-to-month</td>\n",
       "      <td>1</td>\n",
       "      <td>Electronic check</td>\n",
       "      <td>70.70</td>\n",
       "      <td>151.65</td>\n",
       "      <td>1</td>\n",
       "    </tr>\n",
       "  </tbody>\n",
       "</table>\n",
       "</div>"
      ],
      "text/plain": [
       "   gender  SeniorCitizen  Partner  Dependents  tenure  PhoneService  \\\n",
       "0       1              0        1           0       1             0   \n",
       "1       0              0        0           0      34             1   \n",
       "2       0              0        0           0       2             1   \n",
       "3       0              0        0           0      45             0   \n",
       "4       1              0        0           0       2             1   \n",
       "\n",
       "      MultipleLines InternetService OnlineSecurity OnlineBackup  \\\n",
       "0  No phone service             DSL              0            1   \n",
       "1                No             DSL              1            0   \n",
       "2                No             DSL              1            1   \n",
       "3  No phone service             DSL              1            0   \n",
       "4                No     Fiber optic              0            0   \n",
       "\n",
       "  DeviceProtection TechSupport StreamingTV StreamingMovies        Contract  \\\n",
       "0                0           0           0               0  Month-to-month   \n",
       "1                1           0           0               0        One year   \n",
       "2                0           0           0               0  Month-to-month   \n",
       "3                1           1           0               0        One year   \n",
       "4                0           0           0               0  Month-to-month   \n",
       "\n",
       "   PaperlessBilling              PaymentMethod  MonthlyCharges  TotalCharges  \\\n",
       "0                 1           Electronic check           29.85         29.85   \n",
       "1                 0               Mailed check           56.95       1889.50   \n",
       "2                 1               Mailed check           53.85        108.15   \n",
       "3                 0  Bank transfer (automatic)           42.30       1840.75   \n",
       "4                 1           Electronic check           70.70        151.65   \n",
       "\n",
       "   Churn  \n",
       "0      0  \n",
       "1      0  \n",
       "2      1  \n",
       "3      0  \n",
       "4      1  "
      ]
     },
     "execution_count": 20,
     "metadata": {},
     "output_type": "execute_result"
    }
   ],
   "source": [
    "df.head()"
   ]
  },
  {
   "cell_type": "markdown",
   "metadata": {},
   "source": [
    "#### Drop the MultipleLines column, which provides some redundant but less precise information than the PhoneService column"
   ]
  },
  {
   "cell_type": "code",
   "execution_count": 21,
   "metadata": {},
   "outputs": [],
   "source": [
    "df.drop('MultipleLines', axis=1, inplace=True)"
   ]
  },
  {
   "cell_type": "code",
   "execution_count": 22,
   "metadata": {},
   "outputs": [
    {
     "data": {
      "text/html": [
       "<div>\n",
       "<style scoped>\n",
       "    .dataframe tbody tr th:only-of-type {\n",
       "        vertical-align: middle;\n",
       "    }\n",
       "\n",
       "    .dataframe tbody tr th {\n",
       "        vertical-align: top;\n",
       "    }\n",
       "\n",
       "    .dataframe thead th {\n",
       "        text-align: right;\n",
       "    }\n",
       "</style>\n",
       "<table border=\"1\" class=\"dataframe\">\n",
       "  <thead>\n",
       "    <tr style=\"text-align: right;\">\n",
       "      <th></th>\n",
       "      <th>gender</th>\n",
       "      <th>SeniorCitizen</th>\n",
       "      <th>Partner</th>\n",
       "      <th>Dependents</th>\n",
       "      <th>tenure</th>\n",
       "      <th>PhoneService</th>\n",
       "      <th>InternetService</th>\n",
       "      <th>OnlineSecurity</th>\n",
       "      <th>OnlineBackup</th>\n",
       "      <th>DeviceProtection</th>\n",
       "      <th>TechSupport</th>\n",
       "      <th>StreamingTV</th>\n",
       "      <th>StreamingMovies</th>\n",
       "      <th>Contract</th>\n",
       "      <th>PaperlessBilling</th>\n",
       "      <th>PaymentMethod</th>\n",
       "      <th>MonthlyCharges</th>\n",
       "      <th>TotalCharges</th>\n",
       "      <th>Churn</th>\n",
       "    </tr>\n",
       "  </thead>\n",
       "  <tbody>\n",
       "    <tr>\n",
       "      <th>0</th>\n",
       "      <td>1</td>\n",
       "      <td>0</td>\n",
       "      <td>1</td>\n",
       "      <td>0</td>\n",
       "      <td>1</td>\n",
       "      <td>0</td>\n",
       "      <td>DSL</td>\n",
       "      <td>0</td>\n",
       "      <td>1</td>\n",
       "      <td>0</td>\n",
       "      <td>0</td>\n",
       "      <td>0</td>\n",
       "      <td>0</td>\n",
       "      <td>Month-to-month</td>\n",
       "      <td>1</td>\n",
       "      <td>Electronic check</td>\n",
       "      <td>29.85</td>\n",
       "      <td>29.85</td>\n",
       "      <td>0</td>\n",
       "    </tr>\n",
       "    <tr>\n",
       "      <th>1</th>\n",
       "      <td>0</td>\n",
       "      <td>0</td>\n",
       "      <td>0</td>\n",
       "      <td>0</td>\n",
       "      <td>34</td>\n",
       "      <td>1</td>\n",
       "      <td>DSL</td>\n",
       "      <td>1</td>\n",
       "      <td>0</td>\n",
       "      <td>1</td>\n",
       "      <td>0</td>\n",
       "      <td>0</td>\n",
       "      <td>0</td>\n",
       "      <td>One year</td>\n",
       "      <td>0</td>\n",
       "      <td>Mailed check</td>\n",
       "      <td>56.95</td>\n",
       "      <td>1889.50</td>\n",
       "      <td>0</td>\n",
       "    </tr>\n",
       "    <tr>\n",
       "      <th>2</th>\n",
       "      <td>0</td>\n",
       "      <td>0</td>\n",
       "      <td>0</td>\n",
       "      <td>0</td>\n",
       "      <td>2</td>\n",
       "      <td>1</td>\n",
       "      <td>DSL</td>\n",
       "      <td>1</td>\n",
       "      <td>1</td>\n",
       "      <td>0</td>\n",
       "      <td>0</td>\n",
       "      <td>0</td>\n",
       "      <td>0</td>\n",
       "      <td>Month-to-month</td>\n",
       "      <td>1</td>\n",
       "      <td>Mailed check</td>\n",
       "      <td>53.85</td>\n",
       "      <td>108.15</td>\n",
       "      <td>1</td>\n",
       "    </tr>\n",
       "    <tr>\n",
       "      <th>3</th>\n",
       "      <td>0</td>\n",
       "      <td>0</td>\n",
       "      <td>0</td>\n",
       "      <td>0</td>\n",
       "      <td>45</td>\n",
       "      <td>0</td>\n",
       "      <td>DSL</td>\n",
       "      <td>1</td>\n",
       "      <td>0</td>\n",
       "      <td>1</td>\n",
       "      <td>1</td>\n",
       "      <td>0</td>\n",
       "      <td>0</td>\n",
       "      <td>One year</td>\n",
       "      <td>0</td>\n",
       "      <td>Bank transfer (automatic)</td>\n",
       "      <td>42.30</td>\n",
       "      <td>1840.75</td>\n",
       "      <td>0</td>\n",
       "    </tr>\n",
       "    <tr>\n",
       "      <th>4</th>\n",
       "      <td>1</td>\n",
       "      <td>0</td>\n",
       "      <td>0</td>\n",
       "      <td>0</td>\n",
       "      <td>2</td>\n",
       "      <td>1</td>\n",
       "      <td>Fiber optic</td>\n",
       "      <td>0</td>\n",
       "      <td>0</td>\n",
       "      <td>0</td>\n",
       "      <td>0</td>\n",
       "      <td>0</td>\n",
       "      <td>0</td>\n",
       "      <td>Month-to-month</td>\n",
       "      <td>1</td>\n",
       "      <td>Electronic check</td>\n",
       "      <td>70.70</td>\n",
       "      <td>151.65</td>\n",
       "      <td>1</td>\n",
       "    </tr>\n",
       "  </tbody>\n",
       "</table>\n",
       "</div>"
      ],
      "text/plain": [
       "   gender  SeniorCitizen  Partner  Dependents  tenure  PhoneService  \\\n",
       "0       1              0        1           0       1             0   \n",
       "1       0              0        0           0      34             1   \n",
       "2       0              0        0           0       2             1   \n",
       "3       0              0        0           0      45             0   \n",
       "4       1              0        0           0       2             1   \n",
       "\n",
       "  InternetService OnlineSecurity OnlineBackup DeviceProtection TechSupport  \\\n",
       "0             DSL              0            1                0           0   \n",
       "1             DSL              1            0                1           0   \n",
       "2             DSL              1            1                0           0   \n",
       "3             DSL              1            0                1           1   \n",
       "4     Fiber optic              0            0                0           0   \n",
       "\n",
       "  StreamingTV StreamingMovies        Contract  PaperlessBilling  \\\n",
       "0           0               0  Month-to-month                 1   \n",
       "1           0               0        One year                 0   \n",
       "2           0               0  Month-to-month                 1   \n",
       "3           0               0        One year                 0   \n",
       "4           0               0  Month-to-month                 1   \n",
       "\n",
       "               PaymentMethod  MonthlyCharges  TotalCharges  Churn  \n",
       "0           Electronic check           29.85         29.85      0  \n",
       "1               Mailed check           56.95       1889.50      0  \n",
       "2               Mailed check           53.85        108.15      1  \n",
       "3  Bank transfer (automatic)           42.30       1840.75      0  \n",
       "4           Electronic check           70.70        151.65      1  "
      ]
     },
     "execution_count": 22,
     "metadata": {},
     "output_type": "execute_result"
    }
   ],
   "source": [
    "df.head()"
   ]
  },
  {
   "cell_type": "code",
   "execution_count": 23,
   "metadata": {
    "scrolled": true
   },
   "outputs": [
    {
     "data": {
      "text/html": [
       "<div>\n",
       "<style scoped>\n",
       "    .dataframe tbody tr th:only-of-type {\n",
       "        vertical-align: middle;\n",
       "    }\n",
       "\n",
       "    .dataframe tbody tr th {\n",
       "        vertical-align: top;\n",
       "    }\n",
       "\n",
       "    .dataframe thead th {\n",
       "        text-align: right;\n",
       "    }\n",
       "</style>\n",
       "<table border=\"1\" class=\"dataframe\">\n",
       "  <thead>\n",
       "    <tr style=\"text-align: right;\">\n",
       "      <th></th>\n",
       "      <th>gender</th>\n",
       "      <th>SeniorCitizen</th>\n",
       "      <th>Partner</th>\n",
       "      <th>Dependents</th>\n",
       "      <th>tenure</th>\n",
       "      <th>PhoneService</th>\n",
       "      <th>PaperlessBilling</th>\n",
       "      <th>MonthlyCharges</th>\n",
       "      <th>TotalCharges</th>\n",
       "      <th>Churn</th>\n",
       "    </tr>\n",
       "  </thead>\n",
       "  <tbody>\n",
       "    <tr>\n",
       "      <th>gender</th>\n",
       "      <td>1.000000</td>\n",
       "      <td>0.001819</td>\n",
       "      <td>0.001379</td>\n",
       "      <td>-0.010349</td>\n",
       "      <td>-0.005285</td>\n",
       "      <td>0.007515</td>\n",
       "      <td>0.011902</td>\n",
       "      <td>0.013779</td>\n",
       "      <td>-0.000048</td>\n",
       "      <td>0.008545</td>\n",
       "    </tr>\n",
       "    <tr>\n",
       "      <th>SeniorCitizen</th>\n",
       "      <td>0.001819</td>\n",
       "      <td>1.000000</td>\n",
       "      <td>0.016957</td>\n",
       "      <td>-0.210550</td>\n",
       "      <td>0.015683</td>\n",
       "      <td>0.008392</td>\n",
       "      <td>0.156258</td>\n",
       "      <td>0.219874</td>\n",
       "      <td>0.102411</td>\n",
       "      <td>0.150541</td>\n",
       "    </tr>\n",
       "    <tr>\n",
       "      <th>Partner</th>\n",
       "      <td>0.001379</td>\n",
       "      <td>0.016957</td>\n",
       "      <td>1.000000</td>\n",
       "      <td>0.452269</td>\n",
       "      <td>0.381912</td>\n",
       "      <td>0.018397</td>\n",
       "      <td>-0.013957</td>\n",
       "      <td>0.097825</td>\n",
       "      <td>0.319072</td>\n",
       "      <td>-0.149982</td>\n",
       "    </tr>\n",
       "    <tr>\n",
       "      <th>Dependents</th>\n",
       "      <td>-0.010349</td>\n",
       "      <td>-0.210550</td>\n",
       "      <td>0.452269</td>\n",
       "      <td>1.000000</td>\n",
       "      <td>0.163386</td>\n",
       "      <td>-0.001078</td>\n",
       "      <td>-0.110131</td>\n",
       "      <td>-0.112343</td>\n",
       "      <td>0.064653</td>\n",
       "      <td>-0.163128</td>\n",
       "    </tr>\n",
       "    <tr>\n",
       "      <th>tenure</th>\n",
       "      <td>-0.005285</td>\n",
       "      <td>0.015683</td>\n",
       "      <td>0.381912</td>\n",
       "      <td>0.163386</td>\n",
       "      <td>1.000000</td>\n",
       "      <td>0.007877</td>\n",
       "      <td>0.004823</td>\n",
       "      <td>0.246862</td>\n",
       "      <td>0.825880</td>\n",
       "      <td>-0.354049</td>\n",
       "    </tr>\n",
       "    <tr>\n",
       "      <th>PhoneService</th>\n",
       "      <td>0.007515</td>\n",
       "      <td>0.008392</td>\n",
       "      <td>0.018397</td>\n",
       "      <td>-0.001078</td>\n",
       "      <td>0.007877</td>\n",
       "      <td>1.000000</td>\n",
       "      <td>0.016696</td>\n",
       "      <td>0.248033</td>\n",
       "      <td>0.113008</td>\n",
       "      <td>0.011691</td>\n",
       "    </tr>\n",
       "    <tr>\n",
       "      <th>PaperlessBilling</th>\n",
       "      <td>0.011902</td>\n",
       "      <td>0.156258</td>\n",
       "      <td>-0.013957</td>\n",
       "      <td>-0.110131</td>\n",
       "      <td>0.004823</td>\n",
       "      <td>0.016696</td>\n",
       "      <td>1.000000</td>\n",
       "      <td>0.351930</td>\n",
       "      <td>0.157830</td>\n",
       "      <td>0.191454</td>\n",
       "    </tr>\n",
       "    <tr>\n",
       "      <th>MonthlyCharges</th>\n",
       "      <td>0.013779</td>\n",
       "      <td>0.219874</td>\n",
       "      <td>0.097825</td>\n",
       "      <td>-0.112343</td>\n",
       "      <td>0.246862</td>\n",
       "      <td>0.248033</td>\n",
       "      <td>0.351930</td>\n",
       "      <td>1.000000</td>\n",
       "      <td>0.651065</td>\n",
       "      <td>0.192858</td>\n",
       "    </tr>\n",
       "    <tr>\n",
       "      <th>TotalCharges</th>\n",
       "      <td>-0.000048</td>\n",
       "      <td>0.102411</td>\n",
       "      <td>0.319072</td>\n",
       "      <td>0.064653</td>\n",
       "      <td>0.825880</td>\n",
       "      <td>0.113008</td>\n",
       "      <td>0.157830</td>\n",
       "      <td>0.651065</td>\n",
       "      <td>1.000000</td>\n",
       "      <td>-0.199484</td>\n",
       "    </tr>\n",
       "    <tr>\n",
       "      <th>Churn</th>\n",
       "      <td>0.008545</td>\n",
       "      <td>0.150541</td>\n",
       "      <td>-0.149982</td>\n",
       "      <td>-0.163128</td>\n",
       "      <td>-0.354049</td>\n",
       "      <td>0.011691</td>\n",
       "      <td>0.191454</td>\n",
       "      <td>0.192858</td>\n",
       "      <td>-0.199484</td>\n",
       "      <td>1.000000</td>\n",
       "    </tr>\n",
       "  </tbody>\n",
       "</table>\n",
       "</div>"
      ],
      "text/plain": [
       "                    gender  SeniorCitizen   Partner  Dependents    tenure  \\\n",
       "gender            1.000000       0.001819  0.001379   -0.010349 -0.005285   \n",
       "SeniorCitizen     0.001819       1.000000  0.016957   -0.210550  0.015683   \n",
       "Partner           0.001379       0.016957  1.000000    0.452269  0.381912   \n",
       "Dependents       -0.010349      -0.210550  0.452269    1.000000  0.163386   \n",
       "tenure           -0.005285       0.015683  0.381912    0.163386  1.000000   \n",
       "PhoneService      0.007515       0.008392  0.018397   -0.001078  0.007877   \n",
       "PaperlessBilling  0.011902       0.156258 -0.013957   -0.110131  0.004823   \n",
       "MonthlyCharges    0.013779       0.219874  0.097825   -0.112343  0.246862   \n",
       "TotalCharges     -0.000048       0.102411  0.319072    0.064653  0.825880   \n",
       "Churn             0.008545       0.150541 -0.149982   -0.163128 -0.354049   \n",
       "\n",
       "                  PhoneService  PaperlessBilling  MonthlyCharges  \\\n",
       "gender                0.007515          0.011902        0.013779   \n",
       "SeniorCitizen         0.008392          0.156258        0.219874   \n",
       "Partner               0.018397         -0.013957        0.097825   \n",
       "Dependents           -0.001078         -0.110131       -0.112343   \n",
       "tenure                0.007877          0.004823        0.246862   \n",
       "PhoneService          1.000000          0.016696        0.248033   \n",
       "PaperlessBilling      0.016696          1.000000        0.351930   \n",
       "MonthlyCharges        0.248033          0.351930        1.000000   \n",
       "TotalCharges          0.113008          0.157830        0.651065   \n",
       "Churn                 0.011691          0.191454        0.192858   \n",
       "\n",
       "                  TotalCharges     Churn  \n",
       "gender               -0.000048  0.008545  \n",
       "SeniorCitizen         0.102411  0.150541  \n",
       "Partner               0.319072 -0.149982  \n",
       "Dependents            0.064653 -0.163128  \n",
       "tenure                0.825880 -0.354049  \n",
       "PhoneService          0.113008  0.011691  \n",
       "PaperlessBilling      0.157830  0.191454  \n",
       "MonthlyCharges        0.651065  0.192858  \n",
       "TotalCharges          1.000000 -0.199484  \n",
       "Churn                -0.199484  1.000000  "
      ]
     },
     "execution_count": 23,
     "metadata": {},
     "output_type": "execute_result"
    }
   ],
   "source": [
    "df.corr()"
   ]
  },
  {
   "cell_type": "code",
   "execution_count": 24,
   "metadata": {},
   "outputs": [],
   "source": [
    "no_internet_columns = ['StreamingTV',\n",
    "                      'StreamingMovies',\n",
    "                      'OnlineSecurity',\n",
    "                      'OnlineBackup',\n",
    "                      'DeviceProtection',\n",
    "                      'TechSupport',\n",
    "                      ]\n",
    "\n",
    "for col in no_internet_columns:\n",
    "    df[col].replace({'No internet service': 0}, inplace=True)"
   ]
  },
  {
   "cell_type": "code",
   "execution_count": 25,
   "metadata": {},
   "outputs": [
    {
     "name": "stdout",
     "output_type": "stream",
     "text": [
      "0    4329\n",
      "1    2703\n",
      "Name: StreamingTV, dtype: int64\n",
      "0    4301\n",
      "1    2731\n",
      "Name: StreamingMovies, dtype: int64\n",
      "0    5017\n",
      "1    2015\n",
      "Name: OnlineSecurity, dtype: int64\n",
      "0    4607\n",
      "1    2425\n",
      "Name: OnlineBackup, dtype: int64\n",
      "0    4614\n",
      "1    2418\n",
      "Name: DeviceProtection, dtype: int64\n",
      "0    4992\n",
      "1    2040\n",
      "Name: TechSupport, dtype: int64\n"
     ]
    }
   ],
   "source": [
    "# confirm that 'No internet service' was replaced for all columns\n",
    "for col in no_internet_columns:\n",
    "    print(df[col].value_counts())"
   ]
  },
  {
   "cell_type": "code",
   "execution_count": 26,
   "metadata": {},
   "outputs": [
    {
     "data": {
      "text/html": [
       "<div>\n",
       "<style scoped>\n",
       "    .dataframe tbody tr th:only-of-type {\n",
       "        vertical-align: middle;\n",
       "    }\n",
       "\n",
       "    .dataframe tbody tr th {\n",
       "        vertical-align: top;\n",
       "    }\n",
       "\n",
       "    .dataframe thead th {\n",
       "        text-align: right;\n",
       "    }\n",
       "</style>\n",
       "<table border=\"1\" class=\"dataframe\">\n",
       "  <thead>\n",
       "    <tr style=\"text-align: right;\">\n",
       "      <th></th>\n",
       "      <th>gender</th>\n",
       "      <th>SeniorCitizen</th>\n",
       "      <th>Partner</th>\n",
       "      <th>Dependents</th>\n",
       "      <th>tenure</th>\n",
       "      <th>PhoneService</th>\n",
       "      <th>InternetService</th>\n",
       "      <th>OnlineSecurity</th>\n",
       "      <th>OnlineBackup</th>\n",
       "      <th>DeviceProtection</th>\n",
       "      <th>TechSupport</th>\n",
       "      <th>StreamingTV</th>\n",
       "      <th>StreamingMovies</th>\n",
       "      <th>Contract</th>\n",
       "      <th>PaperlessBilling</th>\n",
       "      <th>PaymentMethod</th>\n",
       "      <th>MonthlyCharges</th>\n",
       "      <th>TotalCharges</th>\n",
       "      <th>Churn</th>\n",
       "    </tr>\n",
       "  </thead>\n",
       "  <tbody>\n",
       "    <tr>\n",
       "      <th>0</th>\n",
       "      <td>1</td>\n",
       "      <td>0</td>\n",
       "      <td>1</td>\n",
       "      <td>0</td>\n",
       "      <td>1</td>\n",
       "      <td>0</td>\n",
       "      <td>DSL</td>\n",
       "      <td>0</td>\n",
       "      <td>1</td>\n",
       "      <td>0</td>\n",
       "      <td>0</td>\n",
       "      <td>0</td>\n",
       "      <td>0</td>\n",
       "      <td>Month-to-month</td>\n",
       "      <td>1</td>\n",
       "      <td>Electronic check</td>\n",
       "      <td>29.85</td>\n",
       "      <td>29.85</td>\n",
       "      <td>0</td>\n",
       "    </tr>\n",
       "    <tr>\n",
       "      <th>1</th>\n",
       "      <td>0</td>\n",
       "      <td>0</td>\n",
       "      <td>0</td>\n",
       "      <td>0</td>\n",
       "      <td>34</td>\n",
       "      <td>1</td>\n",
       "      <td>DSL</td>\n",
       "      <td>1</td>\n",
       "      <td>0</td>\n",
       "      <td>1</td>\n",
       "      <td>0</td>\n",
       "      <td>0</td>\n",
       "      <td>0</td>\n",
       "      <td>One year</td>\n",
       "      <td>0</td>\n",
       "      <td>Mailed check</td>\n",
       "      <td>56.95</td>\n",
       "      <td>1889.50</td>\n",
       "      <td>0</td>\n",
       "    </tr>\n",
       "    <tr>\n",
       "      <th>2</th>\n",
       "      <td>0</td>\n",
       "      <td>0</td>\n",
       "      <td>0</td>\n",
       "      <td>0</td>\n",
       "      <td>2</td>\n",
       "      <td>1</td>\n",
       "      <td>DSL</td>\n",
       "      <td>1</td>\n",
       "      <td>1</td>\n",
       "      <td>0</td>\n",
       "      <td>0</td>\n",
       "      <td>0</td>\n",
       "      <td>0</td>\n",
       "      <td>Month-to-month</td>\n",
       "      <td>1</td>\n",
       "      <td>Mailed check</td>\n",
       "      <td>53.85</td>\n",
       "      <td>108.15</td>\n",
       "      <td>1</td>\n",
       "    </tr>\n",
       "    <tr>\n",
       "      <th>3</th>\n",
       "      <td>0</td>\n",
       "      <td>0</td>\n",
       "      <td>0</td>\n",
       "      <td>0</td>\n",
       "      <td>45</td>\n",
       "      <td>0</td>\n",
       "      <td>DSL</td>\n",
       "      <td>1</td>\n",
       "      <td>0</td>\n",
       "      <td>1</td>\n",
       "      <td>1</td>\n",
       "      <td>0</td>\n",
       "      <td>0</td>\n",
       "      <td>One year</td>\n",
       "      <td>0</td>\n",
       "      <td>Bank transfer (automatic)</td>\n",
       "      <td>42.30</td>\n",
       "      <td>1840.75</td>\n",
       "      <td>0</td>\n",
       "    </tr>\n",
       "    <tr>\n",
       "      <th>4</th>\n",
       "      <td>1</td>\n",
       "      <td>0</td>\n",
       "      <td>0</td>\n",
       "      <td>0</td>\n",
       "      <td>2</td>\n",
       "      <td>1</td>\n",
       "      <td>Fiber optic</td>\n",
       "      <td>0</td>\n",
       "      <td>0</td>\n",
       "      <td>0</td>\n",
       "      <td>0</td>\n",
       "      <td>0</td>\n",
       "      <td>0</td>\n",
       "      <td>Month-to-month</td>\n",
       "      <td>1</td>\n",
       "      <td>Electronic check</td>\n",
       "      <td>70.70</td>\n",
       "      <td>151.65</td>\n",
       "      <td>1</td>\n",
       "    </tr>\n",
       "  </tbody>\n",
       "</table>\n",
       "</div>"
      ],
      "text/plain": [
       "   gender  SeniorCitizen  Partner  Dependents  tenure  PhoneService  \\\n",
       "0       1              0        1           0       1             0   \n",
       "1       0              0        0           0      34             1   \n",
       "2       0              0        0           0       2             1   \n",
       "3       0              0        0           0      45             0   \n",
       "4       1              0        0           0       2             1   \n",
       "\n",
       "  InternetService  OnlineSecurity  OnlineBackup  DeviceProtection  \\\n",
       "0             DSL               0             1                 0   \n",
       "1             DSL               1             0                 1   \n",
       "2             DSL               1             1                 0   \n",
       "3             DSL               1             0                 1   \n",
       "4     Fiber optic               0             0                 0   \n",
       "\n",
       "   TechSupport  StreamingTV  StreamingMovies        Contract  \\\n",
       "0            0            0                0  Month-to-month   \n",
       "1            0            0                0        One year   \n",
       "2            0            0                0  Month-to-month   \n",
       "3            1            0                0        One year   \n",
       "4            0            0                0  Month-to-month   \n",
       "\n",
       "   PaperlessBilling              PaymentMethod  MonthlyCharges  TotalCharges  \\\n",
       "0                 1           Electronic check           29.85         29.85   \n",
       "1                 0               Mailed check           56.95       1889.50   \n",
       "2                 1               Mailed check           53.85        108.15   \n",
       "3                 0  Bank transfer (automatic)           42.30       1840.75   \n",
       "4                 1           Electronic check           70.70        151.65   \n",
       "\n",
       "   Churn  \n",
       "0      0  \n",
       "1      0  \n",
       "2      1  \n",
       "3      0  \n",
       "4      1  "
      ]
     },
     "execution_count": 26,
     "metadata": {},
     "output_type": "execute_result"
    }
   ],
   "source": [
    "df.head()"
   ]
  },
  {
   "cell_type": "code",
   "execution_count": 27,
   "metadata": {},
   "outputs": [
    {
     "data": {
      "text/plain": [
       "Fiber optic    3096\n",
       "DSL            2416\n",
       "No             1520\n",
       "Name: InternetService, dtype: int64"
      ]
     },
     "execution_count": 27,
     "metadata": {},
     "output_type": "execute_result"
    }
   ],
   "source": [
    "df.InternetService.value_counts()"
   ]
  },
  {
   "cell_type": "markdown",
   "metadata": {},
   "source": [
    "#### Combine different types of internet service so that the column represents only customers with and without internet service."
   ]
  },
  {
   "cell_type": "code",
   "execution_count": 28,
   "metadata": {},
   "outputs": [],
   "source": [
    "df.InternetService.replace({'Fiber optic': 1, 'DSL': 1, 'No': 0}, inplace=True)"
   ]
  },
  {
   "cell_type": "code",
   "execution_count": 29,
   "metadata": {},
   "outputs": [
    {
     "data": {
      "text/plain": [
       "Month-to-month    3875\n",
       "Two year          1685\n",
       "One year          1472\n",
       "Name: Contract, dtype: int64"
      ]
     },
     "execution_count": 29,
     "metadata": {},
     "output_type": "execute_result"
    }
   ],
   "source": [
    "df.Contract.value_counts()"
   ]
  },
  {
   "cell_type": "code",
   "execution_count": 30,
   "metadata": {},
   "outputs": [
    {
     "data": {
      "text/plain": [
       "Electronic check             2365\n",
       "Mailed check                 1604\n",
       "Bank transfer (automatic)    1542\n",
       "Credit card (automatic)      1521\n",
       "Name: PaymentMethod, dtype: int64"
      ]
     },
     "execution_count": 30,
     "metadata": {},
     "output_type": "execute_result"
    }
   ],
   "source": [
    "df.PaymentMethod.value_counts()"
   ]
  },
  {
   "cell_type": "markdown",
   "metadata": {},
   "source": [
    "#### Combine automatic payment methods because both indicate the same level of technical understanding compared to a mailed check or electronic check."
   ]
  },
  {
   "cell_type": "code",
   "execution_count": 31,
   "metadata": {},
   "outputs": [],
   "source": [
    "df.PaymentMethod.replace({'Bank transfer (automatic)': 'Automatic', 'Credit card (automatic)': 'Automatic'}, inplace=True)"
   ]
  },
  {
   "cell_type": "code",
   "execution_count": 32,
   "metadata": {},
   "outputs": [
    {
     "data": {
      "text/html": [
       "<div>\n",
       "<style scoped>\n",
       "    .dataframe tbody tr th:only-of-type {\n",
       "        vertical-align: middle;\n",
       "    }\n",
       "\n",
       "    .dataframe tbody tr th {\n",
       "        vertical-align: top;\n",
       "    }\n",
       "\n",
       "    .dataframe thead th {\n",
       "        text-align: right;\n",
       "    }\n",
       "</style>\n",
       "<table border=\"1\" class=\"dataframe\">\n",
       "  <thead>\n",
       "    <tr style=\"text-align: right;\">\n",
       "      <th></th>\n",
       "      <th>gender</th>\n",
       "      <th>SeniorCitizen</th>\n",
       "      <th>Partner</th>\n",
       "      <th>Dependents</th>\n",
       "      <th>tenure</th>\n",
       "      <th>PhoneService</th>\n",
       "      <th>InternetService</th>\n",
       "      <th>OnlineSecurity</th>\n",
       "      <th>OnlineBackup</th>\n",
       "      <th>DeviceProtection</th>\n",
       "      <th>TechSupport</th>\n",
       "      <th>StreamingTV</th>\n",
       "      <th>StreamingMovies</th>\n",
       "      <th>Contract</th>\n",
       "      <th>PaperlessBilling</th>\n",
       "      <th>PaymentMethod</th>\n",
       "      <th>MonthlyCharges</th>\n",
       "      <th>TotalCharges</th>\n",
       "      <th>Churn</th>\n",
       "    </tr>\n",
       "  </thead>\n",
       "  <tbody>\n",
       "    <tr>\n",
       "      <th>0</th>\n",
       "      <td>1</td>\n",
       "      <td>0</td>\n",
       "      <td>1</td>\n",
       "      <td>0</td>\n",
       "      <td>1</td>\n",
       "      <td>0</td>\n",
       "      <td>1</td>\n",
       "      <td>0</td>\n",
       "      <td>1</td>\n",
       "      <td>0</td>\n",
       "      <td>0</td>\n",
       "      <td>0</td>\n",
       "      <td>0</td>\n",
       "      <td>Month-to-month</td>\n",
       "      <td>1</td>\n",
       "      <td>Electronic check</td>\n",
       "      <td>29.85</td>\n",
       "      <td>29.85</td>\n",
       "      <td>0</td>\n",
       "    </tr>\n",
       "    <tr>\n",
       "      <th>1</th>\n",
       "      <td>0</td>\n",
       "      <td>0</td>\n",
       "      <td>0</td>\n",
       "      <td>0</td>\n",
       "      <td>34</td>\n",
       "      <td>1</td>\n",
       "      <td>1</td>\n",
       "      <td>1</td>\n",
       "      <td>0</td>\n",
       "      <td>1</td>\n",
       "      <td>0</td>\n",
       "      <td>0</td>\n",
       "      <td>0</td>\n",
       "      <td>One year</td>\n",
       "      <td>0</td>\n",
       "      <td>Mailed check</td>\n",
       "      <td>56.95</td>\n",
       "      <td>1889.50</td>\n",
       "      <td>0</td>\n",
       "    </tr>\n",
       "    <tr>\n",
       "      <th>2</th>\n",
       "      <td>0</td>\n",
       "      <td>0</td>\n",
       "      <td>0</td>\n",
       "      <td>0</td>\n",
       "      <td>2</td>\n",
       "      <td>1</td>\n",
       "      <td>1</td>\n",
       "      <td>1</td>\n",
       "      <td>1</td>\n",
       "      <td>0</td>\n",
       "      <td>0</td>\n",
       "      <td>0</td>\n",
       "      <td>0</td>\n",
       "      <td>Month-to-month</td>\n",
       "      <td>1</td>\n",
       "      <td>Mailed check</td>\n",
       "      <td>53.85</td>\n",
       "      <td>108.15</td>\n",
       "      <td>1</td>\n",
       "    </tr>\n",
       "    <tr>\n",
       "      <th>3</th>\n",
       "      <td>0</td>\n",
       "      <td>0</td>\n",
       "      <td>0</td>\n",
       "      <td>0</td>\n",
       "      <td>45</td>\n",
       "      <td>0</td>\n",
       "      <td>1</td>\n",
       "      <td>1</td>\n",
       "      <td>0</td>\n",
       "      <td>1</td>\n",
       "      <td>1</td>\n",
       "      <td>0</td>\n",
       "      <td>0</td>\n",
       "      <td>One year</td>\n",
       "      <td>0</td>\n",
       "      <td>Automatic</td>\n",
       "      <td>42.30</td>\n",
       "      <td>1840.75</td>\n",
       "      <td>0</td>\n",
       "    </tr>\n",
       "    <tr>\n",
       "      <th>4</th>\n",
       "      <td>1</td>\n",
       "      <td>0</td>\n",
       "      <td>0</td>\n",
       "      <td>0</td>\n",
       "      <td>2</td>\n",
       "      <td>1</td>\n",
       "      <td>1</td>\n",
       "      <td>0</td>\n",
       "      <td>0</td>\n",
       "      <td>0</td>\n",
       "      <td>0</td>\n",
       "      <td>0</td>\n",
       "      <td>0</td>\n",
       "      <td>Month-to-month</td>\n",
       "      <td>1</td>\n",
       "      <td>Electronic check</td>\n",
       "      <td>70.70</td>\n",
       "      <td>151.65</td>\n",
       "      <td>1</td>\n",
       "    </tr>\n",
       "  </tbody>\n",
       "</table>\n",
       "</div>"
      ],
      "text/plain": [
       "   gender  SeniorCitizen  Partner  Dependents  tenure  PhoneService  \\\n",
       "0       1              0        1           0       1             0   \n",
       "1       0              0        0           0      34             1   \n",
       "2       0              0        0           0       2             1   \n",
       "3       0              0        0           0      45             0   \n",
       "4       1              0        0           0       2             1   \n",
       "\n",
       "   InternetService  OnlineSecurity  OnlineBackup  DeviceProtection  \\\n",
       "0                1               0             1                 0   \n",
       "1                1               1             0                 1   \n",
       "2                1               1             1                 0   \n",
       "3                1               1             0                 1   \n",
       "4                1               0             0                 0   \n",
       "\n",
       "   TechSupport  StreamingTV  StreamingMovies        Contract  \\\n",
       "0            0            0                0  Month-to-month   \n",
       "1            0            0                0        One year   \n",
       "2            0            0                0  Month-to-month   \n",
       "3            1            0                0        One year   \n",
       "4            0            0                0  Month-to-month   \n",
       "\n",
       "   PaperlessBilling     PaymentMethod  MonthlyCharges  TotalCharges  Churn  \n",
       "0                 1  Electronic check           29.85         29.85      0  \n",
       "1                 0      Mailed check           56.95       1889.50      0  \n",
       "2                 1      Mailed check           53.85        108.15      1  \n",
       "3                 0         Automatic           42.30       1840.75      0  \n",
       "4                 1  Electronic check           70.70        151.65      1  "
      ]
     },
     "execution_count": 32,
     "metadata": {},
     "output_type": "execute_result"
    }
   ],
   "source": [
    "df.head()"
   ]
  },
  {
   "cell_type": "code",
   "execution_count": 33,
   "metadata": {},
   "outputs": [
    {
     "data": {
      "text/plain": [
       "count    7032.000000\n",
       "mean       32.421786\n",
       "std        24.545260\n",
       "min         1.000000\n",
       "25%         9.000000\n",
       "50%        29.000000\n",
       "75%        55.000000\n",
       "max        72.000000\n",
       "Name: tenure, dtype: float64"
      ]
     },
     "execution_count": 33,
     "metadata": {},
     "output_type": "execute_result"
    }
   ],
   "source": [
    "df.tenure.describe()"
   ]
  },
  {
   "cell_type": "code",
   "execution_count": 34,
   "metadata": {},
   "outputs": [
    {
     "data": {
      "image/png": "[encoded data removed]",
      "text/plain": [
       "<Figure size 432x288 with 1 Axes>"
      ]
     },
     "metadata": {
      "needs_background": "light"
     },
     "output_type": "display_data"
    }
   ],
   "source": [
    "plt.hist(df.tenure, color='purple');"
   ]
  },
  {
   "cell_type": "markdown",
   "metadata": {},
   "source": [
    "#### Correlation Heatmap <a id='corr_heatmap'></a>\n",
    "<a href='#top'>Back to Top</a>"
   ]
  },
  {
   "cell_type": "code",
   "execution_count": 35,
   "metadata": {},
   "outputs": [
    {
     "data": {
      "text/plain": [
       "<matplotlib.axes._subplots.AxesSubplot at 0x1a18d7d9b0>"
      ]
     },
     "execution_count": 35,
     "metadata": {},
     "output_type": "execute_result"
    },
    {
     "data": {
      "image/png": "[encoded data removed]",
      "text/plain": [
       "<Figure size 720x720 with 2 Axes>"
      ]
     },
     "metadata": {
      "needs_background": "light"
     },
     "output_type": "display_data"
    }
   ],
   "source": [
    "plt.figure(figsize=(10,10))\n",
    "sns.heatmap(df.corr(), cmap='Purples')"
   ]
  },
  {
   "cell_type": "markdown",
   "metadata": {},
   "source": [
    "### Preprocess the Data <a id='section_3'></a>\n",
    "<a href='#top'>Back to Top</a>"
   ]
  },
  {
   "cell_type": "code",
   "execution_count": 41,
   "metadata": {},
   "outputs": [
    {
     "data": {
      "text/html": [
       "<div>\n",
       "<style scoped>\n",
       "    .dataframe tbody tr th:only-of-type {\n",
       "        vertical-align: middle;\n",
       "    }\n",
       "\n",
       "    .dataframe tbody tr th {\n",
       "        vertical-align: top;\n",
       "    }\n",
       "\n",
       "    .dataframe thead th {\n",
       "        text-align: right;\n",
       "    }\n",
       "</style>\n",
       "<table border=\"1\" class=\"dataframe\">\n",
       "  <thead>\n",
       "    <tr style=\"text-align: right;\">\n",
       "      <th></th>\n",
       "      <th>gender</th>\n",
       "      <th>SeniorCitizen</th>\n",
       "      <th>Partner</th>\n",
       "      <th>Dependents</th>\n",
       "      <th>tenure</th>\n",
       "      <th>PhoneService</th>\n",
       "      <th>InternetService</th>\n",
       "      <th>OnlineSecurity</th>\n",
       "      <th>OnlineBackup</th>\n",
       "      <th>DeviceProtection</th>\n",
       "      <th>...</th>\n",
       "      <th>PaperlessBilling</th>\n",
       "      <th>MonthlyCharges</th>\n",
       "      <th>TotalCharges</th>\n",
       "      <th>Churn</th>\n",
       "      <th>Contract_Month-to-month</th>\n",
       "      <th>Contract_One year</th>\n",
       "      <th>Contract_Two year</th>\n",
       "      <th>PaymentMethod_Automatic</th>\n",
       "      <th>PaymentMethod_Electronic check</th>\n",
       "      <th>PaymentMethod_Mailed check</th>\n",
       "    </tr>\n",
       "  </thead>\n",
       "  <tbody>\n",
       "    <tr>\n",
       "      <th>0</th>\n",
       "      <td>1</td>\n",
       "      <td>0</td>\n",
       "      <td>1</td>\n",
       "      <td>0</td>\n",
       "      <td>1</td>\n",
       "      <td>0</td>\n",
       "      <td>1</td>\n",
       "      <td>0</td>\n",
       "      <td>1</td>\n",
       "      <td>0</td>\n",
       "      <td>...</td>\n",
       "      <td>1</td>\n",
       "      <td>29.85</td>\n",
       "      <td>29.85</td>\n",
       "      <td>0</td>\n",
       "      <td>1</td>\n",
       "      <td>0</td>\n",
       "      <td>0</td>\n",
       "      <td>0</td>\n",
       "      <td>1</td>\n",
       "      <td>0</td>\n",
       "    </tr>\n",
       "    <tr>\n",
       "      <th>1</th>\n",
       "      <td>0</td>\n",
       "      <td>0</td>\n",
       "      <td>0</td>\n",
       "      <td>0</td>\n",
       "      <td>34</td>\n",
       "      <td>1</td>\n",
       "      <td>1</td>\n",
       "      <td>1</td>\n",
       "      <td>0</td>\n",
       "      <td>1</td>\n",
       "      <td>...</td>\n",
       "      <td>0</td>\n",
       "      <td>56.95</td>\n",
       "      <td>1889.50</td>\n",
       "      <td>0</td>\n",
       "      <td>0</td>\n",
       "      <td>1</td>\n",
       "      <td>0</td>\n",
       "      <td>0</td>\n",
       "      <td>0</td>\n",
       "      <td>1</td>\n",
       "    </tr>\n",
       "    <tr>\n",
       "      <th>2</th>\n",
       "      <td>0</td>\n",
       "      <td>0</td>\n",
       "      <td>0</td>\n",
       "      <td>0</td>\n",
       "      <td>2</td>\n",
       "      <td>1</td>\n",
       "      <td>1</td>\n",
       "      <td>1</td>\n",
       "      <td>1</td>\n",
       "      <td>0</td>\n",
       "      <td>...</td>\n",
       "      <td>1</td>\n",
       "      <td>53.85</td>\n",
       "      <td>108.15</td>\n",
       "      <td>1</td>\n",
       "      <td>1</td>\n",
       "      <td>0</td>\n",
       "      <td>0</td>\n",
       "      <td>0</td>\n",
       "      <td>0</td>\n",
       "      <td>1</td>\n",
       "    </tr>\n",
       "    <tr>\n",
       "      <th>3</th>\n",
       "      <td>0</td>\n",
       "      <td>0</td>\n",
       "      <td>0</td>\n",
       "      <td>0</td>\n",
       "      <td>45</td>\n",
       "      <td>0</td>\n",
       "      <td>1</td>\n",
       "      <td>1</td>\n",
       "      <td>0</td>\n",
       "      <td>1</td>\n",
       "      <td>...</td>\n",
       "      <td>0</td>\n",
       "      <td>42.30</td>\n",
       "      <td>1840.75</td>\n",
       "      <td>0</td>\n",
       "      <td>0</td>\n",
       "      <td>1</td>\n",
       "      <td>0</td>\n",
       "      <td>1</td>\n",
       "      <td>0</td>\n",
       "      <td>0</td>\n",
       "    </tr>\n",
       "    <tr>\n",
       "      <th>4</th>\n",
       "      <td>1</td>\n",
       "      <td>0</td>\n",
       "      <td>0</td>\n",
       "      <td>0</td>\n",
       "      <td>2</td>\n",
       "      <td>1</td>\n",
       "      <td>1</td>\n",
       "      <td>0</td>\n",
       "      <td>0</td>\n",
       "      <td>0</td>\n",
       "      <td>...</td>\n",
       "      <td>1</td>\n",
       "      <td>70.70</td>\n",
       "      <td>151.65</td>\n",
       "      <td>1</td>\n",
       "      <td>1</td>\n",
       "      <td>0</td>\n",
       "      <td>0</td>\n",
       "      <td>0</td>\n",
       "      <td>1</td>\n",
       "      <td>0</td>\n",
       "    </tr>\n",
       "  </tbody>\n",
       "</table>\n",
       "<p>5 rows × 23 columns</p>\n",
       "</div>"
      ],
      "text/plain": [
       "   gender  SeniorCitizen  Partner  Dependents  tenure  PhoneService  \\\n",
       "0       1              0        1           0       1             0   \n",
       "1       0              0        0           0      34             1   \n",
       "2       0              0        0           0       2             1   \n",
       "3       0              0        0           0      45             0   \n",
       "4       1              0        0           0       2             1   \n",
       "\n",
       "   InternetService  OnlineSecurity  OnlineBackup  DeviceProtection  \\\n",
       "0                1               0             1                 0   \n",
       "1                1               1             0                 1   \n",
       "2                1               1             1                 0   \n",
       "3                1               1             0                 1   \n",
       "4                1               0             0                 0   \n",
       "\n",
       "              ...              PaperlessBilling  MonthlyCharges  TotalCharges  \\\n",
       "0             ...                             1           29.85         29.85   \n",
       "1             ...                             0           56.95       1889.50   \n",
       "2             ...                             1           53.85        108.15   \n",
       "3             ...                             0           42.30       1840.75   \n",
       "4             ...                             1           70.70        151.65   \n",
       "\n",
       "   Churn  Contract_Month-to-month  Contract_One year  Contract_Two year  \\\n",
       "0      0                        1                  0                  0   \n",
       "1      0                        0                  1                  0   \n",
       "2      1                        1                  0                  0   \n",
       "3      0                        0                  1                  0   \n",
       "4      1                        1                  0                  0   \n",
       "\n",
       "   PaymentMethod_Automatic  PaymentMethod_Electronic check  \\\n",
       "0                        0                               1   \n",
       "1                        0                               0   \n",
       "2                        0                               0   \n",
       "3                        1                               0   \n",
       "4                        0                               1   \n",
       "\n",
       "   PaymentMethod_Mailed check  \n",
       "0                           0  \n",
       "1                           1  \n",
       "2                           1  \n",
       "3                           0  \n",
       "4                           0  \n",
       "\n",
       "[5 rows x 23 columns]"
      ]
     },
     "execution_count": 41,
     "metadata": {},
     "output_type": "execute_result"
    }
   ],
   "source": [
    "dummy_df = pd.get_dummies(df)\n",
    "dummy_df.head()"
   ]
  },
  {
   "cell_type": "code",
   "execution_count": 37,
   "metadata": {},
   "outputs": [
    {
     "name": "stdout",
     "output_type": "stream",
     "text": [
      "<class 'pandas.core.frame.DataFrame'>\n",
      "Int64Index: 7032 entries, 0 to 7042\n",
      "Data columns (total 19 columns):\n",
      "gender              7032 non-null int64\n",
      "SeniorCitizen       7032 non-null int64\n",
      "Partner             7032 non-null int64\n",
      "Dependents          7032 non-null int64\n",
      "tenure              7032 non-null int64\n",
      "PhoneService        7032 non-null int64\n",
      "InternetService     7032 non-null int64\n",
      "OnlineSecurity      7032 non-null int64\n",
      "OnlineBackup        7032 non-null int64\n",
      "DeviceProtection    7032 non-null int64\n",
      "TechSupport         7032 non-null int64\n",
      "StreamingTV         7032 non-null int64\n",
      "StreamingMovies     7032 non-null int64\n",
      "Contract            7032 non-null object\n",
      "PaperlessBilling    7032 non-null int64\n",
      "PaymentMethod       7032 non-null object\n",
      "MonthlyCharges      7032 non-null float64\n",
      "TotalCharges        7032 non-null float64\n",
      "Churn               7032 non-null int64\n",
      "dtypes: float64(2), int64(15), object(2)\n",
      "memory usage: 1.1+ MB\n"
     ]
    }
   ],
   "source": [
    "df.info()"
   ]
  },
  {
   "cell_type": "code",
   "execution_count": 42,
   "metadata": {},
   "outputs": [],
   "source": [
    "y = dummy_df.Churn\n",
    "X = dummy_df.drop('Churn', axis=1)"
   ]
  },
  {
   "cell_type": "code",
   "execution_count": 43,
   "metadata": {},
   "outputs": [],
   "source": [
    "scaler = StandardScaler()\n",
    "scaled_X = scaler.fit_transform(X)"
   ]
  },
  {
   "cell_type": "code",
   "execution_count": 44,
   "metadata": {},
   "outputs": [],
   "source": [
    "scaled_df = pd.DataFrame(scaled_X, index=X.index, columns=X.columns)"
   ]
  },
  {
   "cell_type": "code",
   "execution_count": 45,
   "metadata": {},
   "outputs": [
    {
     "data": {
      "text/html": [
       "<div>\n",
       "<style scoped>\n",
       "    .dataframe tbody tr th:only-of-type {\n",
       "        vertical-align: middle;\n",
       "    }\n",
       "\n",
       "    .dataframe tbody tr th {\n",
       "        vertical-align: top;\n",
       "    }\n",
       "\n",
       "    .dataframe thead th {\n",
       "        text-align: right;\n",
       "    }\n",
       "</style>\n",
       "<table border=\"1\" class=\"dataframe\">\n",
       "  <thead>\n",
       "    <tr style=\"text-align: right;\">\n",
       "      <th></th>\n",
       "      <th>gender</th>\n",
       "      <th>SeniorCitizen</th>\n",
       "      <th>Partner</th>\n",
       "      <th>Dependents</th>\n",
       "      <th>tenure</th>\n",
       "      <th>PhoneService</th>\n",
       "      <th>InternetService</th>\n",
       "      <th>OnlineSecurity</th>\n",
       "      <th>OnlineBackup</th>\n",
       "      <th>DeviceProtection</th>\n",
       "      <th>...</th>\n",
       "      <th>StreamingMovies</th>\n",
       "      <th>PaperlessBilling</th>\n",
       "      <th>MonthlyCharges</th>\n",
       "      <th>TotalCharges</th>\n",
       "      <th>Contract_Month-to-month</th>\n",
       "      <th>Contract_One year</th>\n",
       "      <th>Contract_Two year</th>\n",
       "      <th>PaymentMethod_Automatic</th>\n",
       "      <th>PaymentMethod_Electronic check</th>\n",
       "      <th>PaymentMethod_Mailed check</th>\n",
       "    </tr>\n",
       "  </thead>\n",
       "  <tbody>\n",
       "    <tr>\n",
       "      <th>0</th>\n",
       "      <td>1.009430</td>\n",
       "      <td>-0.440327</td>\n",
       "      <td>1.035617</td>\n",
       "      <td>-0.652305</td>\n",
       "      <td>-1.280248</td>\n",
       "      <td>-3.056334</td>\n",
       "      <td>0.52513</td>\n",
       "      <td>-0.633746</td>\n",
       "      <td>1.378330</td>\n",
       "      <td>-0.723918</td>\n",
       "      <td>...</td>\n",
       "      <td>-0.796849</td>\n",
       "      <td>0.828939</td>\n",
       "      <td>-1.161694</td>\n",
       "      <td>-0.994194</td>\n",
       "      <td>0.902613</td>\n",
       "      <td>-0.514537</td>\n",
       "      <td>-0.561364</td>\n",
       "      <td>-0.878482</td>\n",
       "      <td>1.404764</td>\n",
       "      <td>-0.543604</td>\n",
       "    </tr>\n",
       "    <tr>\n",
       "      <th>1</th>\n",
       "      <td>-0.990658</td>\n",
       "      <td>-0.440327</td>\n",
       "      <td>-0.965608</td>\n",
       "      <td>-0.652305</td>\n",
       "      <td>0.064303</td>\n",
       "      <td>0.327189</td>\n",
       "      <td>0.52513</td>\n",
       "      <td>1.577918</td>\n",
       "      <td>-0.725516</td>\n",
       "      <td>1.381372</td>\n",
       "      <td>...</td>\n",
       "      <td>-0.796849</td>\n",
       "      <td>-1.206361</td>\n",
       "      <td>-0.260878</td>\n",
       "      <td>-0.173740</td>\n",
       "      <td>-1.107895</td>\n",
       "      <td>1.943495</td>\n",
       "      <td>-0.561364</td>\n",
       "      <td>-0.878482</td>\n",
       "      <td>-0.711863</td>\n",
       "      <td>1.839576</td>\n",
       "    </tr>\n",
       "    <tr>\n",
       "      <th>2</th>\n",
       "      <td>-0.990658</td>\n",
       "      <td>-0.440327</td>\n",
       "      <td>-0.965608</td>\n",
       "      <td>-0.652305</td>\n",
       "      <td>-1.239504</td>\n",
       "      <td>0.327189</td>\n",
       "      <td>0.52513</td>\n",
       "      <td>1.577918</td>\n",
       "      <td>1.378330</td>\n",
       "      <td>-0.723918</td>\n",
       "      <td>...</td>\n",
       "      <td>-0.796849</td>\n",
       "      <td>0.828939</td>\n",
       "      <td>-0.363923</td>\n",
       "      <td>-0.959649</td>\n",
       "      <td>0.902613</td>\n",
       "      <td>-0.514537</td>\n",
       "      <td>-0.561364</td>\n",
       "      <td>-0.878482</td>\n",
       "      <td>-0.711863</td>\n",
       "      <td>1.839576</td>\n",
       "    </tr>\n",
       "    <tr>\n",
       "      <th>3</th>\n",
       "      <td>-0.990658</td>\n",
       "      <td>-0.440327</td>\n",
       "      <td>-0.965608</td>\n",
       "      <td>-0.652305</td>\n",
       "      <td>0.512486</td>\n",
       "      <td>-3.056334</td>\n",
       "      <td>0.52513</td>\n",
       "      <td>1.577918</td>\n",
       "      <td>-0.725516</td>\n",
       "      <td>1.381372</td>\n",
       "      <td>...</td>\n",
       "      <td>-0.796849</td>\n",
       "      <td>-1.206361</td>\n",
       "      <td>-0.747850</td>\n",
       "      <td>-0.195248</td>\n",
       "      <td>-1.107895</td>\n",
       "      <td>1.943495</td>\n",
       "      <td>-0.561364</td>\n",
       "      <td>1.138327</td>\n",
       "      <td>-0.711863</td>\n",
       "      <td>-0.543604</td>\n",
       "    </tr>\n",
       "    <tr>\n",
       "      <th>4</th>\n",
       "      <td>1.009430</td>\n",
       "      <td>-0.440327</td>\n",
       "      <td>-0.965608</td>\n",
       "      <td>-0.652305</td>\n",
       "      <td>-1.239504</td>\n",
       "      <td>0.327189</td>\n",
       "      <td>0.52513</td>\n",
       "      <td>-0.633746</td>\n",
       "      <td>-0.725516</td>\n",
       "      <td>-0.723918</td>\n",
       "      <td>...</td>\n",
       "      <td>-0.796849</td>\n",
       "      <td>0.828939</td>\n",
       "      <td>0.196178</td>\n",
       "      <td>-0.940457</td>\n",
       "      <td>0.902613</td>\n",
       "      <td>-0.514537</td>\n",
       "      <td>-0.561364</td>\n",
       "      <td>-0.878482</td>\n",
       "      <td>1.404764</td>\n",
       "      <td>-0.543604</td>\n",
       "    </tr>\n",
       "  </tbody>\n",
       "</table>\n",
       "<p>5 rows × 22 columns</p>\n",
       "</div>"
      ],
      "text/plain": [
       "     gender  SeniorCitizen   Partner  Dependents    tenure  PhoneService  \\\n",
       "0  1.009430      -0.440327  1.035617   -0.652305 -1.280248     -3.056334   \n",
       "1 -0.990658      -0.440327 -0.965608   -0.652305  0.064303      0.327189   \n",
       "2 -0.990658      -0.440327 -0.965608   -0.652305 -1.239504      0.327189   \n",
       "3 -0.990658      -0.440327 -0.965608   -0.652305  0.512486     -3.056334   \n",
       "4  1.009430      -0.440327 -0.965608   -0.652305 -1.239504      0.327189   \n",
       "\n",
       "   InternetService  OnlineSecurity  OnlineBackup  DeviceProtection  \\\n",
       "0          0.52513       -0.633746      1.378330         -0.723918   \n",
       "1          0.52513        1.577918     -0.725516          1.381372   \n",
       "2          0.52513        1.577918      1.378330         -0.723918   \n",
       "3          0.52513        1.577918     -0.725516          1.381372   \n",
       "4          0.52513       -0.633746     -0.725516         -0.723918   \n",
       "\n",
       "              ...              StreamingMovies  PaperlessBilling  \\\n",
       "0             ...                    -0.796849          0.828939   \n",
       "1             ...                    -0.796849         -1.206361   \n",
       "2             ...                    -0.796849          0.828939   \n",
       "3             ...                    -0.796849         -1.206361   \n",
       "4             ...                    -0.796849          0.828939   \n",
       "\n",
       "   MonthlyCharges  TotalCharges  Contract_Month-to-month  Contract_One year  \\\n",
       "0       -1.161694     -0.994194                 0.902613          -0.514537   \n",
       "1       -0.260878     -0.173740                -1.107895           1.943495   \n",
       "2       -0.363923     -0.959649                 0.902613          -0.514537   \n",
       "3       -0.747850     -0.195248                -1.107895           1.943495   \n",
       "4        0.196178     -0.940457                 0.902613          -0.514537   \n",
       "\n",
       "   Contract_Two year  PaymentMethod_Automatic  PaymentMethod_Electronic check  \\\n",
       "0          -0.561364                -0.878482                        1.404764   \n",
       "1          -0.561364                -0.878482                       -0.711863   \n",
       "2          -0.561364                -0.878482                       -0.711863   \n",
       "3          -0.561364                 1.138327                       -0.711863   \n",
       "4          -0.561364                -0.878482                        1.404764   \n",
       "\n",
       "   PaymentMethod_Mailed check  \n",
       "0                   -0.543604  \n",
       "1                    1.839576  \n",
       "2                    1.839576  \n",
       "3                   -0.543604  \n",
       "4                   -0.543604  \n",
       "\n",
       "[5 rows x 22 columns]"
      ]
     },
     "execution_count": 45,
     "metadata": {},
     "output_type": "execute_result"
    }
   ],
   "source": [
    "scaled_df.head()"
   ]
  },
  {
   "cell_type": "code",
   "execution_count": 46,
   "metadata": {},
   "outputs": [],
   "source": [
    "X_train, X_test, y_train, y_test = train_test_split(scaled_df, y, random_state=19)"
   ]
  },
  {
   "cell_type": "markdown",
   "metadata": {},
   "source": [
    "### IV. Modeling <a id='section_4'></a>\n",
    "<a href='#top'>Back to Top</a>"
   ]
  },
  {
   "cell_type": "markdown",
   "metadata": {},
   "source": [
    "#### Decision Tree"
   ]
  },
  {
   "cell_type": "code",
   "execution_count": 47,
   "metadata": {},
   "outputs": [
    {
     "data": {
      "image/png": "[encoded data removed]",
      "text/plain": [
       "<Figure size 432x288 with 1 Axes>"
      ]
     },
     "metadata": {
      "needs_background": "light"
     },
     "output_type": "display_data"
    }
   ],
   "source": [
    "plt.hist(y, color='purple');"
   ]
  },
  {
   "cell_type": "code",
   "execution_count": 47,
   "metadata": {},
   "outputs": [
    {
     "data": {
      "text/plain": [
       "DecisionTreeClassifier(class_weight='balanced', criterion='gini',\n",
       "            max_depth=None, max_features=None, max_leaf_nodes=None,\n",
       "            min_impurity_decrease=0.0, min_impurity_split=None,\n",
       "            min_samples_leaf=1, min_samples_split=2,\n",
       "            min_weight_fraction_leaf=0.0, presort=False, random_state=19,\n",
       "            splitter='best')"
      ]
     },
     "execution_count": 47,
     "metadata": {},
     "output_type": "execute_result"
    }
   ],
   "source": [
    "dt = DecisionTreeClassifier(random_state=19, class_weight='balanced')\n",
    "dt.fit(X_train, y_train)"
   ]
  },
  {
   "cell_type": "code",
   "execution_count": 48,
   "metadata": {},
   "outputs": [],
   "source": [
    "dt_train_preds = dt.predict(X_train)\n",
    "dt_test_preds = dt.predict(X_test)"
   ]
  },
  {
   "cell_type": "markdown",
   "metadata": {},
   "source": [
    "#### Print Metrics Function <a id='print_metrics'></a>\n",
    "<a href='#top'>Back to Top</a>"
   ]
  },
  {
   "cell_type": "code",
   "execution_count": 49,
   "metadata": {},
   "outputs": [],
   "source": [
    "def print_metrics(y_train, y_test, y_train_preds, y_test_preds):\n",
    "    \n",
    "    \"\"\"Accepts train and test set predictions and prints evaluation metrics\"\"\"\n",
    "    \n",
    "    print('Train Set Classification Report')\n",
    "    print(classification_report(y_train, y_train_preds))\n",
    "    print('*'*50)\n",
    "    print('Test Set Classification Report')\n",
    "    print(classification_report(y_test, y_test_preds))\n",
    "    print('*'*50)\n",
    "    print('Train Set Confusion Matrix')\n",
    "    print(confusion_matrix(y_train, y_train_preds))\n",
    "    print('*'*50)\n",
    "    print('Test Set Confusion Matrix')\n",
    "    print(confusion_matrix(y_test, y_test_preds))\n",
    "    print('*'*50)\n",
    "    print('Train Set Accuracy Score')\n",
    "    print(accuracy_score(y_train, y_train_preds))\n",
    "    print('*'*50)\n",
    "    print('Test Set Accuracy Score')\n",
    "    print(accuracy_score(y_test, y_test_preds))"
   ]
  },
  {
   "cell_type": "code",
   "execution_count": 50,
   "metadata": {},
   "outputs": [
    {
     "name": "stdout",
     "output_type": "stream",
     "text": [
      "Train Set Classification Report\n",
      "              precision    recall  f1-score   support\n",
      "\n",
      "           0       1.00      1.00      1.00      3878\n",
      "           1       0.99      1.00      1.00      1396\n",
      "\n",
      "   micro avg       1.00      1.00      1.00      5274\n",
      "   macro avg       1.00      1.00      1.00      5274\n",
      "weighted avg       1.00      1.00      1.00      5274\n",
      "\n",
      "**************************************************\n",
      "Test Set Classification Report\n",
      "              precision    recall  f1-score   support\n",
      "\n",
      "           0       0.82      0.81      0.82      1285\n",
      "           1       0.51      0.53      0.52       473\n",
      "\n",
      "   micro avg       0.74      0.74      0.74      1758\n",
      "   macro avg       0.67      0.67      0.67      1758\n",
      "weighted avg       0.74      0.74      0.74      1758\n",
      "\n",
      "**************************************************\n",
      "Train Set Confusion Matrix\n",
      "[[3870    8]\n",
      " [   0 1396]]\n",
      "**************************************************\n",
      "Test Set Confusion Matrix\n",
      "[[1046  239]\n",
      " [ 224  249]]\n",
      "**************************************************\n",
      "Train Set Accuracy Score\n",
      "0.9984831247629883\n",
      "**************************************************\n",
      "Test Set Accuracy Score\n",
      "0.7366325369738339\n"
     ]
    }
   ],
   "source": [
    "print_metrics(y_train, y_test, dt_train_preds, dt_test_preds)"
   ]
  },
  {
   "cell_type": "markdown",
   "metadata": {},
   "source": [
    "#### Random Forest"
   ]
  },
  {
   "cell_type": "code",
   "execution_count": 51,
   "metadata": {},
   "outputs": [
    {
     "data": {
      "text/plain": [
       "RandomForestClassifier(bootstrap=True, class_weight='balanced',\n",
       "            criterion='gini', max_depth=None, max_features='auto',\n",
       "            max_leaf_nodes=None, min_impurity_decrease=0.0,\n",
       "            min_impurity_split=None, min_samples_leaf=1,\n",
       "            min_samples_split=2, min_weight_fraction_leaf=0.0,\n",
       "            n_estimators=10, n_jobs=None, oob_score=False, random_state=19,\n",
       "            verbose=0, warm_start=False)"
      ]
     },
     "execution_count": 51,
     "metadata": {},
     "output_type": "execute_result"
    }
   ],
   "source": [
    "rf = RandomForestClassifier(random_state=19, class_weight='balanced')\n",
    "rf.fit(X_train, y_train)"
   ]
  },
  {
   "cell_type": "code",
   "execution_count": 52,
   "metadata": {},
   "outputs": [],
   "source": [
    "rf_train_preds = rf.predict(X_train)\n",
    "rf_test_preds = rf.predict(X_test)"
   ]
  },
  {
   "cell_type": "code",
   "execution_count": 53,
   "metadata": {},
   "outputs": [
    {
     "name": "stdout",
     "output_type": "stream",
     "text": [
      "Train Set Classification Report\n",
      "              precision    recall  f1-score   support\n",
      "\n",
      "           0       0.98      1.00      0.99      3878\n",
      "           1       0.99      0.93      0.96      1396\n",
      "\n",
      "   micro avg       0.98      0.98      0.98      5274\n",
      "   macro avg       0.98      0.97      0.97      5274\n",
      "weighted avg       0.98      0.98      0.98      5274\n",
      "\n",
      "**************************************************\n",
      "Test Set Classification Report\n",
      "              precision    recall  f1-score   support\n",
      "\n",
      "           0       0.81      0.90      0.86      1285\n",
      "           1       0.62      0.44      0.51       473\n",
      "\n",
      "   micro avg       0.78      0.78      0.78      1758\n",
      "   macro avg       0.72      0.67      0.68      1758\n",
      "weighted avg       0.76      0.78      0.76      1758\n",
      "\n",
      "**************************************************\n",
      "Train Set Confusion Matrix\n",
      "[[3866   12]\n",
      " [  93 1303]]\n",
      "**************************************************\n",
      "Test Set Confusion Matrix\n",
      "[[1159  126]\n",
      " [ 266  207]]\n",
      "**************************************************\n",
      "Train Set Accuracy Score\n",
      "0.9800910125142207\n",
      "**************************************************\n",
      "Test Set Accuracy Score\n",
      "0.7770193401592719\n"
     ]
    }
   ],
   "source": [
    "print_metrics(y_train, y_test, rf_train_preds, rf_test_preds)"
   ]
  },
  {
   "cell_type": "markdown",
   "metadata": {},
   "source": [
    "#### Custom Prediction Function <a id='custom_predict'></a>\n",
    "<a href='#top'>Back to Top</a>"
   ]
  },
  {
   "cell_type": "code",
   "execution_count": 54,
   "metadata": {},
   "outputs": [],
   "source": [
    "def custom_predict(clf, X_test, thresh=0.35):\n",
    "    \n",
    "    \"\"\"Accepts model, features, and threshold for predicting target labels. Returns custom predictions.\"\"\"\n",
    "    \n",
    "    y_preds = clf.predict_proba(X_test)\n",
    "    classes = []\n",
    "    for pred in y_preds:\n",
    "        if pred[1] >= thresh:\n",
    "            classes.append(1)\n",
    "        else:\n",
    "            classes.append(0)\n",
    "    return np.array(classes)"
   ]
  },
  {
   "cell_type": "code",
   "execution_count": 55,
   "metadata": {},
   "outputs": [],
   "source": [
    "rf_custom_y_preds = custom_predict(rf, X_test)"
   ]
  },
  {
   "cell_type": "code",
   "execution_count": 56,
   "metadata": {},
   "outputs": [
    {
     "name": "stdout",
     "output_type": "stream",
     "text": [
      "Train Set Classification Report\n",
      "              precision    recall  f1-score   support\n",
      "\n",
      "           0       0.98      1.00      0.99      3878\n",
      "           1       0.99      0.93      0.96      1396\n",
      "\n",
      "   micro avg       0.98      0.98      0.98      5274\n",
      "   macro avg       0.98      0.97      0.97      5274\n",
      "weighted avg       0.98      0.98      0.98      5274\n",
      "\n",
      "**************************************************\n",
      "Test Set Classification Report\n",
      "              precision    recall  f1-score   support\n",
      "\n",
      "           0       0.86      0.79      0.82      1285\n",
      "           1       0.53      0.65      0.59       473\n",
      "\n",
      "   micro avg       0.75      0.75      0.75      1758\n",
      "   macro avg       0.70      0.72      0.71      1758\n",
      "weighted avg       0.77      0.75      0.76      1758\n",
      "\n",
      "**************************************************\n",
      "Train Set Confusion Matrix\n",
      "[[3866   12]\n",
      " [  93 1303]]\n",
      "**************************************************\n",
      "Test Set Confusion Matrix\n",
      "[[1016  269]\n",
      " [ 165  308]]\n",
      "**************************************************\n",
      "Train Set Accuracy Score\n",
      "0.9800910125142207\n",
      "**************************************************\n",
      "Test Set Accuracy Score\n",
      "0.7531285551763367\n"
     ]
    }
   ],
   "source": [
    "print_metrics(y_train, y_test, rf_train_preds, rf_custom_y_preds)"
   ]
  },
  {
   "cell_type": "markdown",
   "metadata": {},
   "source": [
    "#### Plot feature importance function <a id='plot_features'></a>\n",
    "<a href='#top'>Back to Top</a>"
   ]
  },
  {
   "cell_type": "code",
   "execution_count": 57,
   "metadata": {},
   "outputs": [],
   "source": [
    "def plot_feature_importances(model):\n",
    "    \n",
    "    \"\"\"Visualize feature importance of selected model as determined by feature_importances_ method.\"\"\"\n",
    "    \n",
    "    n_features = X_train.shape[1]\n",
    "    plt.figure(figsize=(12,12))\n",
    "    plt.barh(range(n_features), model.feature_importances_, align='center', color='purple') \n",
    "    plt.yticks(np.arange(n_features), X_train.columns.values) \n",
    "    plt.xlabel(\"Feature Importance\")\n",
    "    plt.ylabel(\"Feature\")"
   ]
  },
  {
   "cell_type": "code",
   "execution_count": 58,
   "metadata": {},
   "outputs": [
    {
     "data": {
      "image/png": "[encoded data removed]",
      "text/plain": [
       "<Figure size 864x864 with 1 Axes>"
      ]
     },
     "metadata": {
      "needs_background": "light"
     },
     "output_type": "display_data"
    }
   ],
   "source": [
    "plot_feature_importances(rf)"
   ]
  },
  {
   "cell_type": "markdown",
   "metadata": {},
   "source": [
    "### GridSearch - optimized for recall score <a id='gridsearch'></a>\n",
    "<a href='#top'>Back to Top</a>"
   ]
  },
  {
   "cell_type": "markdown",
   "metadata": {},
   "source": [
    "#### Random Forest GridSearch <a id='random_forest'></a>"
   ]
  },
  {
   "cell_type": "code",
   "execution_count": 74,
   "metadata": {},
   "outputs": [
    {
     "name": "stdout",
     "output_type": "stream",
     "text": [
      "GridSearch will search through 18000 different permutations.\n"
     ]
    }
   ],
   "source": [
    "rf_param_grid = {\n",
    "    'n_estimators': [5, 10, 15, 20, 35, 50],\n",
    "    'criterion': ['gini', 'entropy'],\n",
    "    'max_depth': [None, 5, 10, 15],\n",
    "    'min_samples_split': [0.1, 0.2, 0.3, 0.4, 0.5],\n",
    "    'min_samples_leaf': [0.1, 0.2, 0.3, 0.4, 0.5],\n",
    "    'class_weight': [None, 'balanced', 'balanced_subsample'],\n",
    "    'min_impurity_decrease': [0, 0.1, 0.001, 0.0001, 0.00001]\n",
    "}\n",
    "\n",
    "num_perm = 6 * 2 * 4 * 5 * 5 * 3 * 5\n",
    "print(f'GridSearch will search through {num_perm} different permutations.')"
   ]
  },
  {
   "cell_type": "code",
   "execution_count": 70,
   "metadata": {},
   "outputs": [],
   "source": [
    "# import time"
   ]
  },
  {
   "cell_type": "code",
   "execution_count": 75,
   "metadata": {},
   "outputs": [
    {
     "name": "stdout",
     "output_type": "stream",
     "text": [
      "Best Score: 91.22525414660247%\n",
      "Total Runtime: 2019.1292400360107 seconds\n",
      "\n",
      "Optimal Parameters: {'class_weight': 'balanced_subsample', 'criterion': 'entropy', 'max_depth': None, 'min_impurity_decrease': 0.1, 'min_samples_leaf': 0.3, 'min_samples_split': 0.1, 'n_estimators': 5}\n"
     ]
    }
   ],
   "source": [
    "# start_time = time.time()\n",
    "\n",
    "# rf_grid_search = GridSearchCV(rf, rf_param_grid, scoring='recall', cv=3)\n",
    "# rf_grid_search.fit(scaled_df, y)\n",
    "\n",
    "# print(f'Best Score: {rf_grid_search.best_score_ * 100}%')\n",
    "# print(f'Total Runtime: {time.time() - start_time} seconds')\n",
    "# print('')\n",
    "# print(f'Optimal Parameters: {rf_grid_search.best_params_}')"
   ]
  },
  {
   "cell_type": "markdown",
   "metadata": {},
   "source": [
    "#### Results of Random Forest GridSearch\n",
    "* class_weight: balanced_subsample\n",
    "* criterion: entropy\n",
    "* max_depth: None (Default)\n",
    "* min_impurity_decrease: 0.1\n",
    "* min_samples_leaf: 0.3\n",
    "* min_samples_split: 0.1\n",
    "* n_estimators: 5"
   ]
  },
  {
   "cell_type": "code",
   "execution_count": 59,
   "metadata": {},
   "outputs": [
    {
     "data": {
      "text/plain": [
       "RandomForestClassifier(bootstrap=True, class_weight='balanced_subsample',\n",
       "            criterion='entropy', max_depth=None, max_features='auto',\n",
       "            max_leaf_nodes=None, min_impurity_decrease=0.1,\n",
       "            min_impurity_split=None, min_samples_leaf=0.3,\n",
       "            min_samples_split=0.1, min_weight_fraction_leaf=0.0,\n",
       "            n_estimators=5, n_jobs=None, oob_score=False, random_state=19,\n",
       "            verbose=0, warm_start=False)"
      ]
     },
     "execution_count": 59,
     "metadata": {},
     "output_type": "execute_result"
    }
   ],
   "source": [
    "optimized_rf = RandomForestClassifier(class_weight='balanced_subsample', criterion='entropy', random_state=19, \\\n",
    "                                     min_impurity_decrease=0.1, min_samples_leaf=0.3, min_samples_split=0.1, \\\n",
    "                                     n_estimators=5)\n",
    "optimized_rf.fit(X_train, y_train)"
   ]
  },
  {
   "cell_type": "code",
   "execution_count": 60,
   "metadata": {},
   "outputs": [],
   "source": [
    "op_rf_train_preds = optimized_rf.predict(X_train)\n",
    "op_rf_test_preds = optimized_rf.predict(X_test)"
   ]
  },
  {
   "cell_type": "code",
   "execution_count": 61,
   "metadata": {},
   "outputs": [
    {
     "name": "stdout",
     "output_type": "stream",
     "text": [
      "Train Set Classification Report\n",
      "              precision    recall  f1-score   support\n",
      "\n",
      "           0       0.86      0.60      0.71      3878\n",
      "           1       0.40      0.74      0.52      1396\n",
      "\n",
      "   micro avg       0.64      0.64      0.64      5274\n",
      "   macro avg       0.63      0.67      0.61      5274\n",
      "weighted avg       0.74      0.64      0.66      5274\n",
      "\n",
      "**************************************************\n",
      "Test Set Classification Report\n",
      "              precision    recall  f1-score   support\n",
      "\n",
      "           0       0.87      0.61      0.71      1285\n",
      "           1       0.41      0.75      0.53       473\n",
      "\n",
      "   micro avg       0.64      0.64      0.64      1758\n",
      "   macro avg       0.64      0.68      0.62      1758\n",
      "weighted avg       0.74      0.64      0.66      1758\n",
      "\n",
      "**************************************************\n",
      "Train Set Confusion Matrix\n",
      "[[2338 1540]\n",
      " [ 368 1028]]\n",
      "**************************************************\n",
      "Test Set Confusion Matrix\n",
      "[[778 507]\n",
      " [119 354]]\n",
      "**************************************************\n",
      "Train Set Accuracy Score\n",
      "0.6382252559726962\n",
      "**************************************************\n",
      "Test Set Accuracy Score\n",
      "0.6439135381114903\n"
     ]
    }
   ],
   "source": [
    "print_metrics(y_train, y_test, op_rf_train_preds, op_rf_test_preds)"
   ]
  },
  {
   "cell_type": "markdown",
   "metadata": {},
   "source": [
    "#### Decision Tree GridSearch <a id='decision_tree'></a>\n",
    "<a href='#top'>Back to Top</a>"
   ]
  },
  {
   "cell_type": "code",
   "execution_count": 82,
   "metadata": {},
   "outputs": [],
   "source": [
    "dt = DecisionTreeClassifier(random_state=19)"
   ]
  },
  {
   "cell_type": "code",
   "execution_count": 83,
   "metadata": {},
   "outputs": [
    {
     "name": "stdout",
     "output_type": "stream",
     "text": [
      "GridSearch will search through 324 different permutations.\n"
     ]
    }
   ],
   "source": [
    "dt_param_grid = {\n",
    "    'criterion': ['gini', 'entropy'],\n",
    "    'max_depth': [None, 5, 10],\n",
    "    'min_samples_split': [0.1, 0.3, 0.5],\n",
    "    'min_samples_leaf': [0.1, 0.3, 0.5],\n",
    "    'class_weight': [None, 'balanced'],\n",
    "    'min_impurity_decrease': [0, 0.1, 0.001]\n",
    "}\n",
    "\n",
    "num_perm = 2 * 3 * 3 * 3 * 2 * 3\n",
    "print(f'GridSearch will search through {num_perm} different permutations.')"
   ]
  },
  {
   "cell_type": "code",
   "execution_count": 84,
   "metadata": {},
   "outputs": [
    {
     "name": "stdout",
     "output_type": "stream",
     "text": [
      "Best Score: 88.55002675227394%\n",
      "Total Runtime: 6.125700950622559 seconds\n",
      "\n",
      "Optimal Parameters: {'class_weight': 'balanced', 'criterion': 'gini', 'max_depth': None, 'min_impurity_decrease': 0, 'min_samples_leaf': 0.1, 'min_samples_split': 0.3}\n"
     ]
    }
   ],
   "source": [
    "# start_time = time.time()\n",
    "\n",
    "# dt_grid_search = GridSearchCV(dt, dt_param_grid, scoring='recall', cv=3)\n",
    "# dt_grid_search.fit(scaled_df, y)\n",
    "\n",
    "# print(f'Best Score: {dt_grid_search.best_score_ * 100}%')\n",
    "# print(f'Total Runtime: {time.time() - start_time} seconds')\n",
    "# print('')\n",
    "# print(f'Optimal Parameters: {dt_grid_search.best_params_}')"
   ]
  },
  {
   "cell_type": "markdown",
   "metadata": {},
   "source": [
    "#### Results of Decision Tree GridSearch\n",
    "* class_weight: balanced\n",
    "* criterion: gini (Default)\n",
    "* max_depth: None (Default)\n",
    "* min_impurity_decrease: 0 (Default)\n",
    "* min_samples_leaf: 0.1\n",
    "* min_samples_split: 0.3"
   ]
  },
  {
   "cell_type": "code",
   "execution_count": 62,
   "metadata": {},
   "outputs": [
    {
     "data": {
      "text/plain": [
       "DecisionTreeClassifier(class_weight='balanced', criterion='gini',\n",
       "            max_depth=None, max_features=None, max_leaf_nodes=None,\n",
       "            min_impurity_decrease=0.0, min_impurity_split=None,\n",
       "            min_samples_leaf=0.1, min_samples_split=0.3,\n",
       "            min_weight_fraction_leaf=0.0, presort=False, random_state=19,\n",
       "            splitter='best')"
      ]
     },
     "execution_count": 62,
     "metadata": {},
     "output_type": "execute_result"
    }
   ],
   "source": [
    "optimized_dt = DecisionTreeClassifier(class_weight='balanced', random_state=19, min_samples_leaf=0.1, min_samples_split=0.3)\n",
    "optimized_dt.fit(X_train, y_train)"
   ]
  },
  {
   "cell_type": "code",
   "execution_count": 63,
   "metadata": {},
   "outputs": [],
   "source": [
    "op_dt_train_preds = optimized_dt.predict(X_train)\n",
    "op_dt_test_preds = optimized_dt.predict(X_test)"
   ]
  },
  {
   "cell_type": "code",
   "execution_count": 64,
   "metadata": {},
   "outputs": [
    {
     "name": "stdout",
     "output_type": "stream",
     "text": [
      "Train Set Classification Report\n",
      "              precision    recall  f1-score   support\n",
      "\n",
      "           0       0.93      0.57      0.70      3878\n",
      "           1       0.42      0.88      0.57      1396\n",
      "\n",
      "   micro avg       0.65      0.65      0.65      5274\n",
      "   macro avg       0.67      0.72      0.64      5274\n",
      "weighted avg       0.79      0.65      0.67      5274\n",
      "\n",
      "**************************************************\n",
      "Test Set Classification Report\n",
      "              precision    recall  f1-score   support\n",
      "\n",
      "           0       0.95      0.58      0.72      1285\n",
      "           1       0.44      0.91      0.60       473\n",
      "\n",
      "   micro avg       0.67      0.67      0.67      1758\n",
      "   macro avg       0.70      0.75      0.66      1758\n",
      "weighted avg       0.81      0.67      0.69      1758\n",
      "\n",
      "**************************************************\n",
      "Train Set Confusion Matrix\n",
      "[[2197 1681]\n",
      " [ 173 1223]]\n",
      "**************************************************\n",
      "Test Set Confusion Matrix\n",
      "[[746 539]\n",
      " [ 41 432]]\n",
      "**************************************************\n",
      "Train Set Accuracy Score\n",
      "0.6484641638225256\n",
      "**************************************************\n",
      "Test Set Accuracy Score\n",
      "0.6700796359499431\n"
     ]
    }
   ],
   "source": [
    "print_metrics(y_train, y_test, op_dt_train_preds, op_dt_test_preds)"
   ]
  },
  {
   "cell_type": "code",
   "execution_count": 65,
   "metadata": {},
   "outputs": [
    {
     "name": "stdout",
     "output_type": "stream",
     "text": [
      "Overall Test Recall Score: 0.9133192389006343\n"
     ]
    }
   ],
   "source": [
    "print(f'Overall Test Recall Score: {recall_score(y_test, op_dt_test_preds)}')"
   ]
  },
  {
   "cell_type": "code",
   "execution_count": 77,
   "metadata": {},
   "outputs": [
    {
     "data": {
      "image/png": "[encoded data removed]",
      "text/plain": [
       "<Figure size 864x864 with 1 Axes>"
      ]
     },
     "metadata": {
      "needs_background": "light"
     },
     "output_type": "display_data"
    }
   ],
   "source": [
    "plot_feature_importances(optimized_dt)"
   ]
  },
  {
   "cell_type": "markdown",
   "metadata": {},
   "source": [
    "#### Best Features"
   ]
  },
  {
   "cell_type": "code",
   "execution_count": 81,
   "metadata": {},
   "outputs": [
    {
     "data": {
      "text/plain": [
       "Contract_Month-to-month       0.747417\n",
       "MonthlyCharges                0.168018\n",
       "tenure                        0.066231\n",
       "Contract_Two year             0.018334\n",
       "PaymentMethod_Mailed check    0.000000\n",
       "dtype: float64"
      ]
     },
     "execution_count": 81,
     "metadata": {},
     "output_type": "execute_result"
    }
   ],
   "source": [
    "dt_best_features = pd.Series(optimized_dt.feature_importances_, index=scaled_df.columns)\n",
    "dt_best_features.sort_values(ascending=False).nlargest(5)"
   ]
  },
  {
   "cell_type": "code",
   "execution_count": 87,
   "metadata": {},
   "outputs": [
    {
     "data": {
      "image/png": "[encoded data removed]",
      "text/plain": [
       "<Figure size 432x288 with 2 Axes>"
      ]
     },
     "metadata": {
      "needs_background": "light"
     },
     "output_type": "display_data"
    }
   ],
   "source": [
    "dt_cm = confusion_matrix(y_test, op_dt_test_preds)\n",
    "sns.heatmap(dt_cm, annot=False, xticklabels=True, fmt='.16g', cmap='Purples');"
   ]
  },
  {
   "cell_type": "markdown",
   "metadata": {},
   "source": [
    "#### Vanilla AdaBoost "
   ]
  },
  {
   "cell_type": "code",
   "execution_count": 89,
   "metadata": {},
   "outputs": [
    {
     "data": {
      "text/plain": [
       "AdaBoostClassifier(algorithm='SAMME.R', base_estimator=None,\n",
       "          learning_rate=1.0, n_estimators=50, random_state=19)"
      ]
     },
     "execution_count": 89,
     "metadata": {},
     "output_type": "execute_result"
    }
   ],
   "source": [
    "ada = AdaBoostClassifier(random_state=19)\n",
    "ada.fit(X_train, y_train)"
   ]
  },
  {
   "cell_type": "code",
   "execution_count": 90,
   "metadata": {},
   "outputs": [],
   "source": [
    "ada_train_preds = ada.predict(X_train)\n",
    "ada_test_preds = ada.predict(X_test)"
   ]
  },
  {
   "cell_type": "code",
   "execution_count": 91,
   "metadata": {},
   "outputs": [
    {
     "name": "stdout",
     "output_type": "stream",
     "text": [
      "Train Set Classification Report\n",
      "              precision    recall  f1-score   support\n",
      "\n",
      "           0       0.84      0.90      0.87      3878\n",
      "           1       0.65      0.53      0.59      1396\n",
      "\n",
      "   micro avg       0.80      0.80      0.80      5274\n",
      "   macro avg       0.75      0.71      0.73      5274\n",
      "weighted avg       0.79      0.80      0.79      5274\n",
      "\n",
      "**************************************************\n",
      "Test Set Classification Report\n",
      "              precision    recall  f1-score   support\n",
      "\n",
      "           0       0.84      0.89      0.86      1285\n",
      "           1       0.64      0.53      0.58       473\n",
      "\n",
      "   micro avg       0.79      0.79      0.79      1758\n",
      "   macro avg       0.74      0.71      0.72      1758\n",
      "weighted avg       0.79      0.79      0.79      1758\n",
      "\n",
      "**************************************************\n",
      "Train Set Confusion Matrix\n",
      "[[3487  391]\n",
      " [ 655  741]]\n",
      "**************************************************\n",
      "Test Set Confusion Matrix\n",
      "[[1147  138]\n",
      " [ 223  250]]\n",
      "**************************************************\n",
      "Train Set Accuracy Score\n",
      "0.801668562760713\n",
      "**************************************************\n",
      "Test Set Accuracy Score\n",
      "0.7946530147895335\n"
     ]
    }
   ],
   "source": [
    "print_metrics(y_train, y_test, ada_train_preds, ada_test_preds)"
   ]
  },
  {
   "cell_type": "markdown",
   "metadata": {},
   "source": [
    "#### AdaBoost GridSearch <a id='ada_boost'></a>\n",
    "<a href='#top'>Back to Top</a>"
   ]
  },
  {
   "cell_type": "code",
   "execution_count": 93,
   "metadata": {},
   "outputs": [
    {
     "name": "stdout",
     "output_type": "stream",
     "text": [
      "GridSearch will search through 30 permutations\n"
     ]
    }
   ],
   "source": [
    "ada_param_grid = {\n",
    "    'algorithm': ['SAMME', 'SAMME.R'],\n",
    "    'n_estimators': [25, 50, 75],\n",
    "    'learning_rate': [0.1, 0.3, 0.5, 1, 1.5],\n",
    "}\n",
    "\n",
    "num_perm = 2 * 3 * 5\n",
    "print(f'GridSearch will search through {num_perm} permutations')"
   ]
  },
  {
   "cell_type": "code",
   "execution_count": 94,
   "metadata": {},
   "outputs": [
    {
     "name": "stdout",
     "output_type": "stream",
     "text": [
      "Best Score: 57.73140716960942%\n",
      "Total Runtime: 12.828197002410889 seconds\n",
      "\n",
      "Optimal Parameters: {'algorithm': 'SAMME', 'learning_rate': 1.5, 'n_estimators': 25}\n"
     ]
    }
   ],
   "source": [
    "# start_time = time.time()\n",
    "\n",
    "# ada_grid_search = GridSearchCV(ada, ada_param_grid, scoring='recall', cv=3)\n",
    "# ada_grid_search.fit(scaled_df, y)\n",
    "\n",
    "# print(f'Best Score: {ada_grid_search.best_score_ * 100}%')\n",
    "# print(f'Total Runtime: {time.time() - start_time} seconds')\n",
    "# print('')\n",
    "# print(f'Optimal Parameters: {ada_grid_search.best_params_}')"
   ]
  },
  {
   "cell_type": "markdown",
   "metadata": {},
   "source": [
    "#### Results of AdaBoost GridSearch\n",
    "* algorithm: SAMME\n",
    "* learning_rate: 1.5\n",
    "* n_estimators: 25"
   ]
  },
  {
   "cell_type": "code",
   "execution_count": 66,
   "metadata": {},
   "outputs": [
    {
     "data": {
      "text/plain": [
       "AdaBoostClassifier(algorithm='SAMME', base_estimator=None, learning_rate=1.5,\n",
       "          n_estimators=25, random_state=19)"
      ]
     },
     "execution_count": 66,
     "metadata": {},
     "output_type": "execute_result"
    }
   ],
   "source": [
    "optimized_ada = AdaBoostClassifier(algorithm='SAMME', learning_rate=1.5, n_estimators=25, random_state=19)\n",
    "optimized_ada.fit(X_train, y_train)"
   ]
  },
  {
   "cell_type": "code",
   "execution_count": 67,
   "metadata": {},
   "outputs": [],
   "source": [
    "op_ada_train_preds = optimized_ada.predict(X_train)\n",
    "op_ada_test_preds = optimized_ada.predict(X_test)"
   ]
  },
  {
   "cell_type": "code",
   "execution_count": 68,
   "metadata": {},
   "outputs": [
    {
     "name": "stdout",
     "output_type": "stream",
     "text": [
      "Train Set Classification Report\n",
      "              precision    recall  f1-score   support\n",
      "\n",
      "           0       0.83      0.91      0.87      3878\n",
      "           1       0.66      0.50      0.57      1396\n",
      "\n",
      "   micro avg       0.80      0.80      0.80      5274\n",
      "   macro avg       0.75      0.70      0.72      5274\n",
      "weighted avg       0.79      0.80      0.79      5274\n",
      "\n",
      "**************************************************\n",
      "Test Set Classification Report\n",
      "              precision    recall  f1-score   support\n",
      "\n",
      "           0       0.82      0.91      0.87      1285\n",
      "           1       0.66      0.47      0.55       473\n",
      "\n",
      "   micro avg       0.79      0.79      0.79      1758\n",
      "   macro avg       0.74      0.69      0.71      1758\n",
      "weighted avg       0.78      0.79      0.78      1758\n",
      "\n",
      "**************************************************\n",
      "Train Set Confusion Matrix\n",
      "[[3525  353]\n",
      " [ 703  693]]\n",
      "**************************************************\n",
      "Test Set Confusion Matrix\n",
      "[[1172  113]\n",
      " [ 249  224]]\n",
      "**************************************************\n",
      "Train Set Accuracy Score\n",
      "0.7997724687144482\n",
      "**************************************************\n",
      "Test Set Accuracy Score\n",
      "0.7940841865756542\n"
     ]
    }
   ],
   "source": [
    "print_metrics(y_train, y_test, op_ada_train_preds, op_ada_test_preds)"
   ]
  },
  {
   "cell_type": "markdown",
   "metadata": {},
   "source": [
    "#### Gradient Boosting"
   ]
  },
  {
   "cell_type": "code",
   "execution_count": 70,
   "metadata": {},
   "outputs": [
    {
     "data": {
      "text/plain": [
       "GradientBoostingClassifier(criterion='friedman_mse', init=None,\n",
       "              learning_rate=0.1, loss='deviance', max_depth=3,\n",
       "              max_features=None, max_leaf_nodes=None,\n",
       "              min_impurity_decrease=0.0, min_impurity_split=None,\n",
       "              min_samples_leaf=1, min_samples_split=2,\n",
       "              min_weight_fraction_leaf=0.0, n_estimators=100,\n",
       "              n_iter_no_change=None, presort='auto', random_state=19,\n",
       "              subsample=1.0, tol=0.0001, validation_fraction=0.1,\n",
       "              verbose=0, warm_start=False)"
      ]
     },
     "execution_count": 70,
     "metadata": {},
     "output_type": "execute_result"
    }
   ],
   "source": [
    "grab = GradientBoostingClassifier(random_state=19)\n",
    "grab.fit(X_train, y_train)"
   ]
  },
  {
   "cell_type": "code",
   "execution_count": 99,
   "metadata": {},
   "outputs": [],
   "source": [
    "grab_train_preds = grab.predict(X_train)\n",
    "grab_test_preds = grab.predict(X_test)"
   ]
  },
  {
   "cell_type": "code",
   "execution_count": 100,
   "metadata": {},
   "outputs": [
    {
     "name": "stdout",
     "output_type": "stream",
     "text": [
      "Train Set Classification Report\n",
      "              precision    recall  f1-score   support\n",
      "\n",
      "           0       0.85      0.93      0.89      3878\n",
      "           1       0.73      0.56      0.63      1396\n",
      "\n",
      "   micro avg       0.83      0.83      0.83      5274\n",
      "   macro avg       0.79      0.74      0.76      5274\n",
      "weighted avg       0.82      0.83      0.82      5274\n",
      "\n",
      "**************************************************\n",
      "Test Set Classification Report\n",
      "              precision    recall  f1-score   support\n",
      "\n",
      "           0       0.83      0.90      0.87      1285\n",
      "           1       0.66      0.51      0.57       473\n",
      "\n",
      "   micro avg       0.80      0.80      0.80      1758\n",
      "   macro avg       0.75      0.71      0.72      1758\n",
      "weighted avg       0.79      0.80      0.79      1758\n",
      "\n",
      "**************************************************\n",
      "Train Set Confusion Matrix\n",
      "[[3588  290]\n",
      " [ 613  783]]\n",
      "**************************************************\n",
      "Test Set Confusion Matrix\n",
      "[[1162  123]\n",
      " [ 233  240]]\n",
      "**************************************************\n",
      "Train Set Accuracy Score\n",
      "0.8287827076222981\n",
      "**************************************************\n",
      "Test Set Accuracy Score\n",
      "0.7974971558589306\n"
     ]
    }
   ],
   "source": [
    "print_metrics(y_train, y_test, grab_train_preds, grab_test_preds)"
   ]
  },
  {
   "cell_type": "markdown",
   "metadata": {},
   "source": [
    "#### Gradient Boosting GridSearch <a id='gradient'></a>\n",
    "<a href='#top'>Back to Top</a>"
   ]
  },
  {
   "cell_type": "code",
   "execution_count": 71,
   "metadata": {},
   "outputs": [],
   "source": [
    "grab_param_grid = {\n",
    "    'learning_rate': [0.01, 0.1, 0.3],\n",
    "    'n_estimators': [75, 100, 125],\n",
    "    'min_samples_split': [2, 3],\n",
    "    'min_samples_leaf': [1, 2, 3],\n",
    "    'max_depth': [3, 4, 5],\n",
    "}"
   ]
  },
  {
   "cell_type": "code",
   "execution_count": 72,
   "metadata": {},
   "outputs": [
    {
     "name": "stdout",
     "output_type": "stream",
     "text": [
      "Fitting 3 folds for each of 162 candidates, totalling 486 fits\n"
     ]
    },
    {
     "name": "stderr",
     "output_type": "stream",
     "text": [
      "[Parallel(n_jobs=1)]: Using backend SequentialBackend with 1 concurrent workers.\n",
      "[Parallel(n_jobs=1)]: Done 486 out of 486 | elapsed:  4.1min finished\n"
     ]
    },
    {
     "name": "stdout",
     "output_type": "stream",
     "text": [
      "Best Score: 53.29052969502407%\n",
      "\n",
      "Optimal Parameters: {'learning_rate': 0.1, 'max_depth': 4, 'min_samples_leaf': 1, 'min_samples_split': 2, 'n_estimators': 100}\n"
     ]
    }
   ],
   "source": [
    "grab_grid_search = GridSearchCV(grab, grab_param_grid, scoring='recall', cv=3, verbose=True)\n",
    "grab_grid_search.fit(scaled_df, y)\n",
    "\n",
    "print(f'Best Score: {grab_grid_search.best_score_ * 100}%')\n",
    "print('')\n",
    "print(f'Optimal Parameters: {grab_grid_search.best_params_}')"
   ]
  },
  {
   "cell_type": "markdown",
   "metadata": {},
   "source": [
    "#### Results of Gradient Boosting GridSearch\n",
    "* learning_rate: 0.1 (Default)\n",
    "* max_depth: 4\n",
    "* min_samples_leaf: 1 (Default)\n",
    "* min_samples_split: 2 (Default)\n",
    "* n_estimators: 100 (Default)"
   ]
  },
  {
   "cell_type": "code",
   "execution_count": 73,
   "metadata": {},
   "outputs": [
    {
     "data": {
      "text/plain": [
       "GradientBoostingClassifier(criterion='friedman_mse', init=None,\n",
       "              learning_rate=0.1, loss='deviance', max_depth=4,\n",
       "              max_features=None, max_leaf_nodes=None,\n",
       "              min_impurity_decrease=0.0, min_impurity_split=None,\n",
       "              min_samples_leaf=1, min_samples_split=2,\n",
       "              min_weight_fraction_leaf=0.0, n_estimators=100,\n",
       "              n_iter_no_change=None, presort='auto', random_state=19,\n",
       "              subsample=1.0, tol=0.0001, validation_fraction=0.1,\n",
       "              verbose=0, warm_start=False)"
      ]
     },
     "execution_count": 73,
     "metadata": {},
     "output_type": "execute_result"
    }
   ],
   "source": [
    "optimized_grab = GradientBoostingClassifier(max_depth=4, random_state=19)\n",
    "optimized_grab.fit(X_train, y_train)"
   ]
  },
  {
   "cell_type": "code",
   "execution_count": 74,
   "metadata": {},
   "outputs": [],
   "source": [
    "op_grab_train_preds = optimized_grab.predict(X_train)\n",
    "op_grab_test_preds = optimized_grab.predict(X_test)"
   ]
  },
  {
   "cell_type": "code",
   "execution_count": 75,
   "metadata": {},
   "outputs": [
    {
     "name": "stdout",
     "output_type": "stream",
     "text": [
      "Train Set Classification Report\n",
      "              precision    recall  f1-score   support\n",
      "\n",
      "           0       0.87      0.94      0.90      3878\n",
      "           1       0.77      0.61      0.68      1396\n",
      "\n",
      "   micro avg       0.85      0.85      0.85      5274\n",
      "   macro avg       0.82      0.77      0.79      5274\n",
      "weighted avg       0.84      0.85      0.84      5274\n",
      "\n",
      "**************************************************\n",
      "Test Set Classification Report\n",
      "              precision    recall  f1-score   support\n",
      "\n",
      "           0       0.83      0.90      0.86      1285\n",
      "           1       0.65      0.50      0.56       473\n",
      "\n",
      "   micro avg       0.79      0.79      0.79      1758\n",
      "   macro avg       0.74      0.70      0.71      1758\n",
      "weighted avg       0.78      0.79      0.78      1758\n",
      "\n",
      "**************************************************\n",
      "Train Set Confusion Matrix\n",
      "[[3626  252]\n",
      " [ 547  849]]\n",
      "**************************************************\n",
      "Test Set Confusion Matrix\n",
      "[[1157  128]\n",
      " [ 237  236]]\n",
      "**************************************************\n",
      "Train Set Accuracy Score\n",
      "0.8485020857034509\n",
      "**************************************************\n",
      "Test Set Accuracy Score\n",
      "0.7923777019340159\n"
     ]
    }
   ],
   "source": [
    "print_metrics(y_train, y_test, op_grab_train_preds, op_grab_test_preds)"
   ]
  },
  {
   "cell_type": "code",
   "execution_count": 76,
   "metadata": {},
   "outputs": [
    {
     "name": "stdout",
     "output_type": "stream",
     "text": [
      "Recall Score for Gradient Boosting Test Set: 0.4989429175475687\n"
     ]
    }
   ],
   "source": [
    "print(f'Recall Score for Gradient Boosting Test Set: {recall_score(y_test, op_grab_test_preds)}')"
   ]
  },
  {
   "cell_type": "markdown",
   "metadata": {},
   "source": [
    "### V. Conclusions & Recommendations <a id='section_5'></a>\n",
    "<a href='#top'>Back to Top</a>"
   ]
  },
  {
   "cell_type": "markdown",
   "metadata": {},
   "source": [
    "#### Visualization of Important Features"
   ]
  },
  {
   "cell_type": "code",
   "execution_count": 37,
   "metadata": {},
   "outputs": [
    {
     "data": {
      "image/png": "[encoded data removed]",
      "text/plain": [
       "<Figure size 432x288 with 1 Axes>"
      ]
     },
     "metadata": {
      "needs_background": "light"
     },
     "output_type": "display_data"
    }
   ],
   "source": [
    "sns.violinplot(x=df.Churn, y=df.MonthlyCharges);"
   ]
  },
  {
   "cell_type": "code",
   "execution_count": 39,
   "metadata": {},
   "outputs": [
    {
     "data": {
      "image/png": "[encoded data removed]",
      "text/plain": [
       "<Figure size 432x288 with 1 Axes>"
      ]
     },
     "metadata": {
      "needs_background": "light"
     },
     "output_type": "display_data"
    }
   ],
   "source": [
    "sns.violinplot(x=df.Churn, y=df.Contract);"
   ]
  },
  {
   "cell_type": "code",
   "execution_count": 40,
   "metadata": {},
   "outputs": [
    {
     "data": {
      "image/png": "[encoded data removed]",
      "text/plain": [
       "<Figure size 432x288 with 1 Axes>"
      ]
     },
     "metadata": {
      "needs_background": "light"
     },
     "output_type": "display_data"
    }
   ],
   "source": [
    "sns.violinplot(x=df.Churn, y=df.tenure);"
   ]
  },
  {
   "cell_type": "markdown",
   "metadata": {},
   "source": [
    "#### Best Model Performance\n",
    "The Decision Tree model optimized for __recall score__ had the best test set recall at __91%__. The training and test scores were similar, indicating that there was little underfitting or overfitting. We chose to optimize our models for recall score due to the fact that missing a customer who will churn is more detrimental to the business than predicting a customer will churn, but who actually stays with the business. Optimizing for recall with this dataset resulted in a tradeoff with accuracy scores below 70%. \n",
    "\n",
    "#### Most Important Feature\n",
    "The Decision Tree model selected the monthly contract as the most important factor in whether a customer will churn, which makes sense if they are not obligated to stay with the business beyond a month. \n",
    "\n",
    "#### Recommendations\n",
    "Offering loyalty incentives for customers to switch to a longer contract or to renew their monthly contract could help minimize churn. \n",
    "\n",
    "#### Further Research\n",
    "A larger dataset could help improve predictive models and also offset the class imbalance. "
   ]
  },
  {
   "cell_type": "code",
   "execution_count": null,
   "metadata": {},
   "outputs": [],
   "source": []
  },
  {
   "cell_type": "code",
   "execution_count": null,
   "metadata": {},
   "outputs": [],
   "source": []
  },
  {
   "cell_type": "code",
   "execution_count": null,
   "metadata": {},
   "outputs": [],
   "source": []
  },
  {
   "cell_type": "code",
   "execution_count": null,
   "metadata": {},
   "outputs": [],
   "source": []
  },
  {
   "cell_type": "code",
   "execution_count": null,
   "metadata": {},
   "outputs": [],
   "source": []
  },
  {
   "cell_type": "code",
   "execution_count": null,
   "metadata": {},
   "outputs": [],
   "source": []
  },
  {
   "cell_type": "code",
   "execution_count": null,
   "metadata": {},
   "outputs": [],
   "source": []
  },
  {
   "cell_type": "code",
   "execution_count": null,
   "metadata": {},
   "outputs": [],
   "source": []
  },
  {
   "cell_type": "markdown",
   "metadata": {},
   "source": [
    "## Stuff We Aren't Using"
   ]
  },
  {
   "cell_type": "code",
   "execution_count": 79,
   "metadata": {},
   "outputs": [],
   "source": [
    "op_rf_custom_train_preds = custom_predict(optimized_rf, X_train)\n",
    "op_rf_custom_test_preds = custom_predict(optimized_rf, X_test)"
   ]
  },
  {
   "cell_type": "code",
   "execution_count": 81,
   "metadata": {},
   "outputs": [
    {
     "name": "stdout",
     "output_type": "stream",
     "text": [
      "Train Set Classification Report\n",
      "              precision    recall  f1-score   support\n",
      "\n",
      "           0       0.00      0.00      0.00      3878\n",
      "           1       0.26      1.00      0.42      1396\n",
      "\n",
      "   micro avg       0.26      0.26      0.26      5274\n",
      "   macro avg       0.13      0.50      0.21      5274\n",
      "weighted avg       0.07      0.26      0.11      5274\n",
      "\n",
      "**************************************************\n",
      "Test Set Classification Report\n",
      "              precision    recall  f1-score   support\n",
      "\n",
      "           0       0.00      0.00      0.00      1285\n",
      "           1       0.27      1.00      0.42       473\n",
      "\n",
      "   micro avg       0.27      0.27      0.27      1758\n",
      "   macro avg       0.13      0.50      0.21      1758\n",
      "weighted avg       0.07      0.27      0.11      1758\n",
      "\n",
      "**************************************************\n",
      "Train Set Confusion Matrix\n",
      "[[   0 3878]\n",
      " [   0 1396]]\n",
      "**************************************************\n",
      "Test Set Confusion Matrix\n",
      "[[   0 1285]\n",
      " [   0  473]]\n",
      "**************************************************\n",
      "Train Set Accuracy Score\n",
      "0.2646947288585514\n",
      "**************************************************\n",
      "Test Set Accuracy Score\n",
      "0.26905574516496017\n"
     ]
    }
   ],
   "source": [
    "print_metrics(y_train, y_test, op_rf_custom_train_preds, op_rf_custom_test_preds)"
   ]
  },
  {
   "cell_type": "markdown",
   "metadata": {},
   "source": [
    "#### Gradient Boosting GridSearch"
   ]
  },
  {
   "cell_type": "code",
   "execution_count": 106,
   "metadata": {},
   "outputs": [
    {
     "name": "stdout",
     "output_type": "stream",
     "text": [
      "GridSearch will search through 11664 different permutations.\n"
     ]
    }
   ],
   "source": [
    "grab_param_grid = {\n",
    "    'criterion': ['friedman_mse', 'mse', 'mae'],\n",
    "    'loss': ['deviance', 'exponential'],\n",
    "    'learning_rate': [0.1, 0.3, 0.5],\n",
    "    'n_estimators': [75, 100, 125],\n",
    "    'min_samples_split': [2, 3],\n",
    "    'min_samples_leaf': [1, 2, 3],\n",
    "    'max_depth': [3, 4, 5, 6],\n",
    "    'min_impurity_decrease': [0, 0.1, 0.01],\n",
    "    'max_features': [None, 'sqrt', 'log2']\n",
    "}\n",
    "\n",
    "num_perm = 3 * 2 * 3 * 3 * 2 * 3 * 4 * 3 * 3\n",
    "print(f'GridSearch will search through {num_perm} different permutations.')"
   ]
  },
  {
   "cell_type": "code",
   "execution_count": 108,
   "metadata": {},
   "outputs": [],
   "source": [
    "# GridSearch took 3+ hours with this many permutations, so kernel was interrupted\n",
    "\n",
    "# start_time = time.time()\n",
    "\n",
    "# grab_grid_search = GridSearchCV(grab, grab_param_grid, scoring='recall', cv=3)\n",
    "# grab_grid_search.fit(scaled_df, y)\n",
    "\n",
    "# print(f'Best Score: {grab_grid_search.best_score_ * 100}%')\n",
    "# print(f'Total Runtime: {time.time() - start_time} seconds')\n",
    "# print('')\n",
    "# print(f'Optimal Parameters: {grab_grid_search.best_params_}')"
   ]
  },
  {
   "cell_type": "markdown",
   "metadata": {},
   "source": [
    "### Optimizing for F1 Score"
   ]
  },
  {
   "cell_type": "markdown",
   "metadata": {},
   "source": [
    "#### AdaBoost GridSearch"
   ]
  },
  {
   "cell_type": "code",
   "execution_count": 109,
   "metadata": {},
   "outputs": [
    {
     "name": "stdout",
     "output_type": "stream",
     "text": [
      "GridSearch will search through 30 permutations\n"
     ]
    }
   ],
   "source": [
    "ada_param_grid = {\n",
    "    'algorithm': ['SAMME', 'SAMME.R'],\n",
    "    'n_estimators': [25, 50, 75],\n",
    "    'learning_rate': [0.1, 0.3, 0.5, 1, 1.5],\n",
    "}\n",
    "\n",
    "num_perm = 2 * 3 * 5\n",
    "print(f'GridSearch will search through {num_perm} permutations')"
   ]
  },
  {
   "cell_type": "code",
   "execution_count": 111,
   "metadata": {},
   "outputs": [
    {
     "name": "stdout",
     "output_type": "stream",
     "text": [
      "Fitting 3 folds for each of 30 candidates, totalling 90 fits\n"
     ]
    },
    {
     "name": "stderr",
     "output_type": "stream",
     "text": [
      "[Parallel(n_jobs=1)]: Using backend SequentialBackend with 1 concurrent workers.\n"
     ]
    },
    {
     "name": "stdout",
     "output_type": "stream",
     "text": [
      "Best Score: 59.92759584831195%\n",
      "Total Runtime: 12.498500108718872 seconds\n",
      "\n",
      "Optimal Parameters: {'algorithm': 'SAMME', 'learning_rate': 1.5, 'n_estimators': 25}\n"
     ]
    },
    {
     "name": "stderr",
     "output_type": "stream",
     "text": [
      "[Parallel(n_jobs=1)]: Done  90 out of  90 | elapsed:   12.4s finished\n"
     ]
    }
   ],
   "source": [
    "# start_time = time.time()\n",
    "\n",
    "# ada_grid_search = GridSearchCV(ada, ada_param_grid, scoring=make_scorer(f1_score), cv=3, verbose=True)\n",
    "# ada_grid_search.fit(scaled_df, y)\n",
    "\n",
    "# print(f'Best Score: {ada_grid_search.best_score_ * 100}%')\n",
    "# print(f'Total Runtime: {time.time() - start_time} seconds')\n",
    "# print('')\n",
    "# print(f'Optimal Parameters: {ada_grid_search.best_params_}')"
   ]
  },
  {
   "cell_type": "markdown",
   "metadata": {},
   "source": [
    "#### Results of AdaBoost GridSearch\n",
    "* algorithm: SAMME\n",
    "* learning_rate: 1.5\n",
    "* n_estimators: 25"
   ]
  },
  {
   "cell_type": "code",
   "execution_count": 112,
   "metadata": {},
   "outputs": [
    {
     "data": {
      "text/plain": [
       "AdaBoostClassifier(algorithm='SAMME', base_estimator=None, learning_rate=1.5,\n",
       "          n_estimators=25, random_state=19)"
      ]
     },
     "execution_count": 112,
     "metadata": {},
     "output_type": "execute_result"
    }
   ],
   "source": [
    "optimized_ada = AdaBoostClassifier(random_state=19, algorithm='SAMME', learning_rate=1.5, n_estimators=25)\n",
    "optimized_ada.fit(scaled_df, y)"
   ]
  },
  {
   "cell_type": "code",
   "execution_count": 113,
   "metadata": {},
   "outputs": [],
   "source": [
    "op_ada_train_preds = optimized_ada.predict(X_train)\n",
    "op_ada_test_preds = optimized_ada.predict(X_test)"
   ]
  },
  {
   "cell_type": "code",
   "execution_count": 114,
   "metadata": {},
   "outputs": [
    {
     "name": "stdout",
     "output_type": "stream",
     "text": [
      "Train Set Classification Report\n",
      "              precision    recall  f1-score   support\n",
      "\n",
      "           0       0.84      0.90      0.87      3878\n",
      "           1       0.65      0.54      0.59      1396\n",
      "\n",
      "   micro avg       0.80      0.80      0.80      5274\n",
      "   macro avg       0.75      0.72      0.73      5274\n",
      "weighted avg       0.79      0.80      0.80      5274\n",
      "\n",
      "**************************************************\n",
      "Test Set Classification Report\n",
      "              precision    recall  f1-score   support\n",
      "\n",
      "           0       0.84      0.90      0.87      1285\n",
      "           1       0.66      0.53      0.59       473\n",
      "\n",
      "   micro avg       0.80      0.80      0.80      1758\n",
      "   macro avg       0.75      0.71      0.73      1758\n",
      "weighted avg       0.79      0.80      0.79      1758\n",
      "\n",
      "**************************************************\n",
      "Train Set Confusion Matrix\n",
      "[[3477  401]\n",
      " [ 643  753]]\n",
      "**************************************************\n",
      "Test Set Confusion Matrix\n",
      "[[1155  130]\n",
      " [ 222  251]]\n",
      "**************************************************\n",
      "Train Set Accuracy Score\n",
      "0.8020477815699659\n",
      "**************************************************\n",
      "Test Set Accuracy Score\n",
      "0.7997724687144482\n"
     ]
    }
   ],
   "source": [
    "print_metrics(y_train, y_test, op_ada_train_preds, op_ada_test_preds)"
   ]
  },
  {
   "cell_type": "markdown",
   "metadata": {},
   "source": [
    "#### Decision Tree GridSearch - F1"
   ]
  },
  {
   "cell_type": "code",
   "execution_count": 124,
   "metadata": {},
   "outputs": [],
   "source": [
    "dt_param_grid = {\n",
    "    'criterion': ['gini', 'entropy'],\n",
    "    'max_depth': [None, 5, 10],\n",
    "    'min_samples_split': [0.1, 0.3, 0.5],\n",
    "    'min_samples_leaf': [0.1, 0.3, 0.5],\n",
    "    'class_weight': [None, 'balanced'],\n",
    "    'min_impurity_decrease': [0, 0.1, 0.001]\n",
    "}"
   ]
  },
  {
   "cell_type": "code",
   "execution_count": 125,
   "metadata": {},
   "outputs": [
    {
     "name": "stdout",
     "output_type": "stream",
     "text": [
      "Fitting 3 folds for each of 324 candidates, totalling 972 fits\n"
     ]
    },
    {
     "name": "stderr",
     "output_type": "stream",
     "text": [
      "[Parallel(n_jobs=1)]: Using backend SequentialBackend with 1 concurrent workers.\n"
     ]
    },
    {
     "name": "stdout",
     "output_type": "stream",
     "text": [
      "Best Score: 60.72454198432071%\n",
      "\n",
      "Optimal Parameters: {'class_weight': 'balanced', 'criterion': 'gini', 'max_depth': None, 'min_impurity_decrease': 0, 'min_samples_leaf': 0.1, 'min_samples_split': 0.1}\n"
     ]
    },
    {
     "name": "stderr",
     "output_type": "stream",
     "text": [
      "[Parallel(n_jobs=1)]: Done 972 out of 972 | elapsed:    6.1s finished\n"
     ]
    }
   ],
   "source": [
    "# dt_grid_search = GridSearchCV(dt, dt_param_grid, scoring=make_scorer(f1_score), cv=3, verbose=True)\n",
    "# dt_grid_search.fit(scaled_df, y)\n",
    "\n",
    "# print(f'Best Score: {dt_grid_search.best_score_ * 100}%')\n",
    "# print('')\n",
    "# print(f'Optimal Parameters: {dt_grid_search.best_params_}')"
   ]
  },
  {
   "cell_type": "code",
   "execution_count": 126,
   "metadata": {},
   "outputs": [
    {
     "data": {
      "text/plain": [
       "DecisionTreeClassifier(class_weight='balanced', criterion='gini',\n",
       "            max_depth=None, max_features=None, max_leaf_nodes=None,\n",
       "            min_impurity_decrease=0, min_impurity_split=None,\n",
       "            min_samples_leaf=0.1, min_samples_split=0.1,\n",
       "            min_weight_fraction_leaf=0.0, presort=False, random_state=19,\n",
       "            splitter='best')"
      ]
     },
     "execution_count": 126,
     "metadata": {},
     "output_type": "execute_result"
    }
   ],
   "source": [
    "op_dt = DecisionTreeClassifier(class_weight='balanced', min_impurity_decrease=0, min_samples_leaf=0.1, min_samples_split=0.1, random_state=19)\n",
    "op_dt.fit(scaled_df, y)"
   ]
  },
  {
   "cell_type": "code",
   "execution_count": 127,
   "metadata": {},
   "outputs": [],
   "source": [
    "op_dt_train_preds = op_dt.predict(X_train)\n",
    "op_dt_test_preds = op_dt.predict(X_test)"
   ]
  },
  {
   "cell_type": "code",
   "execution_count": 128,
   "metadata": {},
   "outputs": [
    {
     "name": "stdout",
     "output_type": "stream",
     "text": [
      "Train Set Classification Report\n",
      "              precision    recall  f1-score   support\n",
      "\n",
      "           0       0.90      0.71      0.80      3878\n",
      "           1       0.49      0.79      0.61      1396\n",
      "\n",
      "   micro avg       0.73      0.73      0.73      5274\n",
      "   macro avg       0.70      0.75      0.70      5274\n",
      "weighted avg       0.79      0.73      0.75      5274\n",
      "\n",
      "**************************************************\n",
      "Test Set Classification Report\n",
      "              precision    recall  f1-score   support\n",
      "\n",
      "           0       0.91      0.72      0.80      1285\n",
      "           1       0.51      0.81      0.63       473\n",
      "\n",
      "   micro avg       0.74      0.74      0.74      1758\n",
      "   macro avg       0.71      0.77      0.72      1758\n",
      "weighted avg       0.81      0.74      0.76      1758\n",
      "\n",
      "**************************************************\n",
      "Train Set Confusion Matrix\n",
      "[[2759 1119]\n",
      " [ 300 1096]]\n",
      "**************************************************\n",
      "Test Set Confusion Matrix\n",
      "[[922 363]\n",
      " [ 88 385]]\n",
      "**************************************************\n",
      "Train Set Accuracy Score\n",
      "0.7309442548350398\n",
      "**************************************************\n",
      "Test Set Accuracy Score\n",
      "0.7434584755403868\n"
     ]
    }
   ],
   "source": [
    "print_metrics(y_train, y_test, op_dt_train_preds, op_dt_test_preds)"
   ]
  }
 ],
 "metadata": {
  "kernelspec": {
   "display_name": "Python [conda env:learn-env]",
   "language": "python",
   "name": "conda-env-learn-env-py"
  },
  "language_info": {
   "codemirror_mode": {
    "name": "ipython",
    "version": 3
   },
   "file_extension": ".py",
   "mimetype": "text/x-python",
   "name": "python",
   "nbconvert_exporter": "python",
   "pygments_lexer": "ipython3",
   "version": "3.6.6"
  }
 },
 "nbformat": 4,
 "nbformat_minor": 2
}
